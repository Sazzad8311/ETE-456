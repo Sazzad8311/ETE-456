{
  "nbformat": 4,
  "nbformat_minor": 0,
  "metadata": {
    "colab": {
      "name": "Regression Project- 1608029 .ipynb",
      "provenance": [],
      "collapsed_sections": [
        "SzECkz2GmLjw"
      ],
      "authorship_tag": "ABX9TyODYdr468VhLp4zxRwWtO1B",
      "include_colab_link": true
    },
    "kernelspec": {
      "name": "python3",
      "display_name": "Python 3"
    },
    "language_info": {
      "name": "python"
    }
  },
  "cells": [
    {
      "cell_type": "markdown",
      "metadata": {
        "id": "view-in-github",
        "colab_type": "text"
      },
      "source": [
        "<a href=\"https://colab.research.google.com/github/Sazzad8311/ETE-456/blob/main/Regression_Project_1608029_.ipynb\" target=\"_parent\"><img src=\"https://colab.research.google.com/assets/colab-badge.svg\" alt=\"Open In Colab\"/></a>"
      ]
    },
    {
      "cell_type": "markdown",
      "metadata": {
        "id": "mFMZnYH46hTv"
      },
      "source": [
        "# **ETE-456:** Regression Project on Medical Cost Personal Dataset\n",
        "\n",
        "\n",
        "> Objective: \n",
        " 1. *Apply various regression algorithms on the real world dataset.*\n",
        "\n",
        "##Dataset (Medical Cost Personal Datasets)\n",
        "Columns\n",
        "\n",
        "**age:** age of primary beneficiary\n",
        "\n",
        "**sex:** insurance contractor gender, female, male\n",
        "\n",
        "**bmi:** Body mass index, providing an understanding of body, weights that are relatively high or low relative to height, objective index of body weight (kg / m ^ 2) using the ratio of height to weight, ideally 18.5 to 24.9\n",
        "\n",
        "**children:** Number of children covered by health insurance / Number of dependents\n",
        "\n",
        "**smoker: **Smoking\n",
        "\n",
        "**region:** the beneficiary's residential area in the US, northeast, southeast, southwest, northwest.\n",
        "\n",
        "**charges:** Individual medical costs billed by health insurance"
      ]
    },
    {
      "cell_type": "code",
      "metadata": {
        "id": "xJ-W-u0d9tbK"
      },
      "source": [
        "import warnings\n",
        "warnings.filterwarnings(\"ignore\")"
      ],
      "execution_count": null,
      "outputs": []
    },
    {
      "cell_type": "markdown",
      "metadata": {
        "id": "zWdPYGPNOh69"
      },
      "source": [
        "### **Import the Libraries**"
      ]
    },
    {
      "cell_type": "code",
      "metadata": {
        "id": "6GKThpaK9wT5"
      },
      "source": [
        "import numpy as np        \n",
        "import pandas as pd     \n",
        "import matplotlib.pyplot as plt \n",
        "from sklearn.preprocessing import LabelEncoder\n",
        "from sklearn.model_selection import train_test_split\n",
        "from sklearn.preprocessing import StandardScaler\n",
        "from sklearn.linear_model import LinearRegression\n",
        "from sklearn.tree import DecisionTreeRegressor\n",
        "from sklearn.ensemble import RandomForestRegressor\n",
        "from sklearn.svm import SVR "
      ],
      "execution_count": null,
      "outputs": []
    },
    {
      "cell_type": "markdown",
      "metadata": {
        "id": "f2zJmCrsO6Ma"
      },
      "source": [
        "### **Dataset**"
      ]
    },
    {
      "cell_type": "code",
      "metadata": {
        "id": "LU0VYMgy9b12",
        "colab": {
          "base_uri": "https://localhost:8080/"
        },
        "outputId": "93dce2fb-f60f-4ff2-b0dc-b5fb2bb98e39"
      },
      "source": [
        "# Download the data\n",
        "!wget -O insurance.csv https://www.dropbox.com/s/mwgqgjbmfw0xa5p/insurance.csv?dl=0"
      ],
      "execution_count": null,
      "outputs": [
        {
          "output_type": "stream",
          "name": "stdout",
          "text": [
            "--2021-12-20 06:39:42--  https://www.dropbox.com/s/mwgqgjbmfw0xa5p/insurance.csv?dl=0\n",
            "Resolving www.dropbox.com (www.dropbox.com)... 162.125.65.18, 2620:100:6027:18::a27d:4812\n",
            "Connecting to www.dropbox.com (www.dropbox.com)|162.125.65.18|:443... connected.\n",
            "HTTP request sent, awaiting response... 301 Moved Permanently\n",
            "Location: /s/raw/mwgqgjbmfw0xa5p/insurance.csv [following]\n",
            "--2021-12-20 06:39:42--  https://www.dropbox.com/s/raw/mwgqgjbmfw0xa5p/insurance.csv\n",
            "Reusing existing connection to www.dropbox.com:443.\n",
            "HTTP request sent, awaiting response... 302 Found\n",
            "Location: https://uca378bd891d426d7507180d765e.dl.dropboxusercontent.com/cd/0/inline/BcKvmJahj7TsD56q09TF6vpqqL05tShEg2053gFA-U1dhoHcZNhmNvjB-TGeiRHlsHB4jn5P5ZBBoBGHnqI1RnZfDLqhDLobSQqMhWjoseao9JvrTSnxZ8XSo7BlElkw0CwDZ7yGSXHgh_M41U9XIpL2/file# [following]\n",
            "--2021-12-20 06:39:42--  https://uca378bd891d426d7507180d765e.dl.dropboxusercontent.com/cd/0/inline/BcKvmJahj7TsD56q09TF6vpqqL05tShEg2053gFA-U1dhoHcZNhmNvjB-TGeiRHlsHB4jn5P5ZBBoBGHnqI1RnZfDLqhDLobSQqMhWjoseao9JvrTSnxZ8XSo7BlElkw0CwDZ7yGSXHgh_M41U9XIpL2/file\n",
            "Resolving uca378bd891d426d7507180d765e.dl.dropboxusercontent.com (uca378bd891d426d7507180d765e.dl.dropboxusercontent.com)... 162.125.65.15, 2620:100:6027:15::a27d:480f\n",
            "Connecting to uca378bd891d426d7507180d765e.dl.dropboxusercontent.com (uca378bd891d426d7507180d765e.dl.dropboxusercontent.com)|162.125.65.15|:443... connected.\n",
            "HTTP request sent, awaiting response... 200 OK\n",
            "Length: 55628 (54K) [text/plain]\n",
            "Saving to: ‘insurance.csv’\n",
            "\n",
            "insurance.csv       100%[===================>]  54.32K   324KB/s    in 0.2s    \n",
            "\n",
            "2021-12-20 06:39:43 (324 KB/s) - ‘insurance.csv’ saved [55628/55628]\n",
            "\n"
          ]
        }
      ]
    },
    {
      "cell_type": "code",
      "metadata": {
        "id": "u5ADp_5l9gce",
        "colab": {
          "base_uri": "https://localhost:8080/",
          "height": 424
        },
        "outputId": "157f0b5a-3a39-4b93-b80b-50a8d77b1ec3"
      },
      "source": [
        "\"\"\"importing the dataset \"\"\"\n",
        "\n",
        "dataset = pd.read_csv('insurance.csv')\n",
        "dataset"
      ],
      "execution_count": null,
      "outputs": [
        {
          "output_type": "execute_result",
          "data": {
            "text/html": [
              "\n",
              "  <div id=\"df-8f84aa52-c017-4cab-9973-7eeedeb882a3\">\n",
              "    <div class=\"colab-df-container\">\n",
              "      <div>\n",
              "<style scoped>\n",
              "    .dataframe tbody tr th:only-of-type {\n",
              "        vertical-align: middle;\n",
              "    }\n",
              "\n",
              "    .dataframe tbody tr th {\n",
              "        vertical-align: top;\n",
              "    }\n",
              "\n",
              "    .dataframe thead th {\n",
              "        text-align: right;\n",
              "    }\n",
              "</style>\n",
              "<table border=\"1\" class=\"dataframe\">\n",
              "  <thead>\n",
              "    <tr style=\"text-align: right;\">\n",
              "      <th></th>\n",
              "      <th>age</th>\n",
              "      <th>sex</th>\n",
              "      <th>bmi</th>\n",
              "      <th>children</th>\n",
              "      <th>smoker</th>\n",
              "      <th>region</th>\n",
              "      <th>charges</th>\n",
              "    </tr>\n",
              "  </thead>\n",
              "  <tbody>\n",
              "    <tr>\n",
              "      <th>0</th>\n",
              "      <td>19</td>\n",
              "      <td>female</td>\n",
              "      <td>27.900</td>\n",
              "      <td>0</td>\n",
              "      <td>yes</td>\n",
              "      <td>southwest</td>\n",
              "      <td>16884.92400</td>\n",
              "    </tr>\n",
              "    <tr>\n",
              "      <th>1</th>\n",
              "      <td>18</td>\n",
              "      <td>male</td>\n",
              "      <td>33.770</td>\n",
              "      <td>1</td>\n",
              "      <td>no</td>\n",
              "      <td>southeast</td>\n",
              "      <td>1725.55230</td>\n",
              "    </tr>\n",
              "    <tr>\n",
              "      <th>2</th>\n",
              "      <td>28</td>\n",
              "      <td>male</td>\n",
              "      <td>33.000</td>\n",
              "      <td>3</td>\n",
              "      <td>no</td>\n",
              "      <td>southeast</td>\n",
              "      <td>4449.46200</td>\n",
              "    </tr>\n",
              "    <tr>\n",
              "      <th>3</th>\n",
              "      <td>33</td>\n",
              "      <td>male</td>\n",
              "      <td>22.705</td>\n",
              "      <td>0</td>\n",
              "      <td>no</td>\n",
              "      <td>northwest</td>\n",
              "      <td>21984.47061</td>\n",
              "    </tr>\n",
              "    <tr>\n",
              "      <th>4</th>\n",
              "      <td>32</td>\n",
              "      <td>male</td>\n",
              "      <td>28.880</td>\n",
              "      <td>0</td>\n",
              "      <td>no</td>\n",
              "      <td>northwest</td>\n",
              "      <td>3866.85520</td>\n",
              "    </tr>\n",
              "    <tr>\n",
              "      <th>...</th>\n",
              "      <td>...</td>\n",
              "      <td>...</td>\n",
              "      <td>...</td>\n",
              "      <td>...</td>\n",
              "      <td>...</td>\n",
              "      <td>...</td>\n",
              "      <td>...</td>\n",
              "    </tr>\n",
              "    <tr>\n",
              "      <th>1333</th>\n",
              "      <td>50</td>\n",
              "      <td>male</td>\n",
              "      <td>30.970</td>\n",
              "      <td>3</td>\n",
              "      <td>no</td>\n",
              "      <td>northwest</td>\n",
              "      <td>10600.54830</td>\n",
              "    </tr>\n",
              "    <tr>\n",
              "      <th>1334</th>\n",
              "      <td>18</td>\n",
              "      <td>female</td>\n",
              "      <td>31.920</td>\n",
              "      <td>0</td>\n",
              "      <td>no</td>\n",
              "      <td>northeast</td>\n",
              "      <td>2205.98080</td>\n",
              "    </tr>\n",
              "    <tr>\n",
              "      <th>1335</th>\n",
              "      <td>18</td>\n",
              "      <td>female</td>\n",
              "      <td>36.850</td>\n",
              "      <td>0</td>\n",
              "      <td>no</td>\n",
              "      <td>southeast</td>\n",
              "      <td>1629.83350</td>\n",
              "    </tr>\n",
              "    <tr>\n",
              "      <th>1336</th>\n",
              "      <td>21</td>\n",
              "      <td>female</td>\n",
              "      <td>25.800</td>\n",
              "      <td>0</td>\n",
              "      <td>no</td>\n",
              "      <td>southwest</td>\n",
              "      <td>2007.94500</td>\n",
              "    </tr>\n",
              "    <tr>\n",
              "      <th>1337</th>\n",
              "      <td>61</td>\n",
              "      <td>female</td>\n",
              "      <td>29.070</td>\n",
              "      <td>0</td>\n",
              "      <td>yes</td>\n",
              "      <td>northwest</td>\n",
              "      <td>29141.36030</td>\n",
              "    </tr>\n",
              "  </tbody>\n",
              "</table>\n",
              "<p>1338 rows × 7 columns</p>\n",
              "</div>\n",
              "      <button class=\"colab-df-convert\" onclick=\"convertToInteractive('df-8f84aa52-c017-4cab-9973-7eeedeb882a3')\"\n",
              "              title=\"Convert this dataframe to an interactive table.\"\n",
              "              style=\"display:none;\">\n",
              "        \n",
              "  <svg xmlns=\"http://www.w3.org/2000/svg\" height=\"24px\"viewBox=\"0 0 24 24\"\n",
              "       width=\"24px\">\n",
              "    <path d=\"M0 0h24v24H0V0z\" fill=\"none\"/>\n",
              "    <path d=\"M18.56 5.44l.94 2.06.94-2.06 2.06-.94-2.06-.94-.94-2.06-.94 2.06-2.06.94zm-11 1L8.5 8.5l.94-2.06 2.06-.94-2.06-.94L8.5 2.5l-.94 2.06-2.06.94zm10 10l.94 2.06.94-2.06 2.06-.94-2.06-.94-.94-2.06-.94 2.06-2.06.94z\"/><path d=\"M17.41 7.96l-1.37-1.37c-.4-.4-.92-.59-1.43-.59-.52 0-1.04.2-1.43.59L10.3 9.45l-7.72 7.72c-.78.78-.78 2.05 0 2.83L4 21.41c.39.39.9.59 1.41.59.51 0 1.02-.2 1.41-.59l7.78-7.78 2.81-2.81c.8-.78.8-2.07 0-2.86zM5.41 20L4 18.59l7.72-7.72 1.47 1.35L5.41 20z\"/>\n",
              "  </svg>\n",
              "      </button>\n",
              "      \n",
              "  <style>\n",
              "    .colab-df-container {\n",
              "      display:flex;\n",
              "      flex-wrap:wrap;\n",
              "      gap: 12px;\n",
              "    }\n",
              "\n",
              "    .colab-df-convert {\n",
              "      background-color: #E8F0FE;\n",
              "      border: none;\n",
              "      border-radius: 50%;\n",
              "      cursor: pointer;\n",
              "      display: none;\n",
              "      fill: #1967D2;\n",
              "      height: 32px;\n",
              "      padding: 0 0 0 0;\n",
              "      width: 32px;\n",
              "    }\n",
              "\n",
              "    .colab-df-convert:hover {\n",
              "      background-color: #E2EBFA;\n",
              "      box-shadow: 0px 1px 2px rgba(60, 64, 67, 0.3), 0px 1px 3px 1px rgba(60, 64, 67, 0.15);\n",
              "      fill: #174EA6;\n",
              "    }\n",
              "\n",
              "    [theme=dark] .colab-df-convert {\n",
              "      background-color: #3B4455;\n",
              "      fill: #D2E3FC;\n",
              "    }\n",
              "\n",
              "    [theme=dark] .colab-df-convert:hover {\n",
              "      background-color: #434B5C;\n",
              "      box-shadow: 0px 1px 3px 1px rgba(0, 0, 0, 0.15);\n",
              "      filter: drop-shadow(0px 1px 2px rgba(0, 0, 0, 0.3));\n",
              "      fill: #FFFFFF;\n",
              "    }\n",
              "  </style>\n",
              "\n",
              "      <script>\n",
              "        const buttonEl =\n",
              "          document.querySelector('#df-8f84aa52-c017-4cab-9973-7eeedeb882a3 button.colab-df-convert');\n",
              "        buttonEl.style.display =\n",
              "          google.colab.kernel.accessAllowed ? 'block' : 'none';\n",
              "\n",
              "        async function convertToInteractive(key) {\n",
              "          const element = document.querySelector('#df-8f84aa52-c017-4cab-9973-7eeedeb882a3');\n",
              "          const dataTable =\n",
              "            await google.colab.kernel.invokeFunction('convertToInteractive',\n",
              "                                                     [key], {});\n",
              "          if (!dataTable) return;\n",
              "\n",
              "          const docLinkHtml = 'Like what you see? Visit the ' +\n",
              "            '<a target=\"_blank\" href=https://colab.research.google.com/notebooks/data_table.ipynb>data table notebook</a>'\n",
              "            + ' to learn more about interactive tables.';\n",
              "          element.innerHTML = '';\n",
              "          dataTable['output_type'] = 'display_data';\n",
              "          await google.colab.output.renderOutput(dataTable, element);\n",
              "          const docLink = document.createElement('div');\n",
              "          docLink.innerHTML = docLinkHtml;\n",
              "          element.appendChild(docLink);\n",
              "        }\n",
              "      </script>\n",
              "    </div>\n",
              "  </div>\n",
              "  "
            ],
            "text/plain": [
              "      age     sex     bmi  children smoker     region      charges\n",
              "0      19  female  27.900         0    yes  southwest  16884.92400\n",
              "1      18    male  33.770         1     no  southeast   1725.55230\n",
              "2      28    male  33.000         3     no  southeast   4449.46200\n",
              "3      33    male  22.705         0     no  northwest  21984.47061\n",
              "4      32    male  28.880         0     no  northwest   3866.85520\n",
              "...   ...     ...     ...       ...    ...        ...          ...\n",
              "1333   50    male  30.970         3     no  northwest  10600.54830\n",
              "1334   18  female  31.920         0     no  northeast   2205.98080\n",
              "1335   18  female  36.850         0     no  southeast   1629.83350\n",
              "1336   21  female  25.800         0     no  southwest   2007.94500\n",
              "1337   61  female  29.070         0    yes  northwest  29141.36030\n",
              "\n",
              "[1338 rows x 7 columns]"
            ]
          },
          "metadata": {},
          "execution_count": 194
        }
      ]
    },
    {
      "cell_type": "code",
      "metadata": {
        "id": "F-bJSFY4Bbna"
      },
      "source": [
        "# Feature Columns\n",
        "features = dataset[['age', 'sex', 'bmi', 'children','smoker','region']]\n",
        "# Target Columns\n",
        "target = dataset[['charges']]"
      ],
      "execution_count": null,
      "outputs": []
    },
    {
      "cell_type": "code",
      "metadata": {
        "id": "IL0eHIcZCOto",
        "colab": {
          "base_uri": "https://localhost:8080/",
          "height": 424
        },
        "outputId": "56fd4529-b41d-4fba-a2bf-5f94ad3e89b2"
      },
      "source": [
        "features"
      ],
      "execution_count": null,
      "outputs": [
        {
          "output_type": "execute_result",
          "data": {
            "text/html": [
              "\n",
              "  <div id=\"df-74d256a1-5516-48e3-b68c-9118f31b6631\">\n",
              "    <div class=\"colab-df-container\">\n",
              "      <div>\n",
              "<style scoped>\n",
              "    .dataframe tbody tr th:only-of-type {\n",
              "        vertical-align: middle;\n",
              "    }\n",
              "\n",
              "    .dataframe tbody tr th {\n",
              "        vertical-align: top;\n",
              "    }\n",
              "\n",
              "    .dataframe thead th {\n",
              "        text-align: right;\n",
              "    }\n",
              "</style>\n",
              "<table border=\"1\" class=\"dataframe\">\n",
              "  <thead>\n",
              "    <tr style=\"text-align: right;\">\n",
              "      <th></th>\n",
              "      <th>age</th>\n",
              "      <th>sex</th>\n",
              "      <th>bmi</th>\n",
              "      <th>children</th>\n",
              "      <th>smoker</th>\n",
              "      <th>region</th>\n",
              "    </tr>\n",
              "  </thead>\n",
              "  <tbody>\n",
              "    <tr>\n",
              "      <th>0</th>\n",
              "      <td>19</td>\n",
              "      <td>female</td>\n",
              "      <td>27.900</td>\n",
              "      <td>0</td>\n",
              "      <td>yes</td>\n",
              "      <td>southwest</td>\n",
              "    </tr>\n",
              "    <tr>\n",
              "      <th>1</th>\n",
              "      <td>18</td>\n",
              "      <td>male</td>\n",
              "      <td>33.770</td>\n",
              "      <td>1</td>\n",
              "      <td>no</td>\n",
              "      <td>southeast</td>\n",
              "    </tr>\n",
              "    <tr>\n",
              "      <th>2</th>\n",
              "      <td>28</td>\n",
              "      <td>male</td>\n",
              "      <td>33.000</td>\n",
              "      <td>3</td>\n",
              "      <td>no</td>\n",
              "      <td>southeast</td>\n",
              "    </tr>\n",
              "    <tr>\n",
              "      <th>3</th>\n",
              "      <td>33</td>\n",
              "      <td>male</td>\n",
              "      <td>22.705</td>\n",
              "      <td>0</td>\n",
              "      <td>no</td>\n",
              "      <td>northwest</td>\n",
              "    </tr>\n",
              "    <tr>\n",
              "      <th>4</th>\n",
              "      <td>32</td>\n",
              "      <td>male</td>\n",
              "      <td>28.880</td>\n",
              "      <td>0</td>\n",
              "      <td>no</td>\n",
              "      <td>northwest</td>\n",
              "    </tr>\n",
              "    <tr>\n",
              "      <th>...</th>\n",
              "      <td>...</td>\n",
              "      <td>...</td>\n",
              "      <td>...</td>\n",
              "      <td>...</td>\n",
              "      <td>...</td>\n",
              "      <td>...</td>\n",
              "    </tr>\n",
              "    <tr>\n",
              "      <th>1333</th>\n",
              "      <td>50</td>\n",
              "      <td>male</td>\n",
              "      <td>30.970</td>\n",
              "      <td>3</td>\n",
              "      <td>no</td>\n",
              "      <td>northwest</td>\n",
              "    </tr>\n",
              "    <tr>\n",
              "      <th>1334</th>\n",
              "      <td>18</td>\n",
              "      <td>female</td>\n",
              "      <td>31.920</td>\n",
              "      <td>0</td>\n",
              "      <td>no</td>\n",
              "      <td>northeast</td>\n",
              "    </tr>\n",
              "    <tr>\n",
              "      <th>1335</th>\n",
              "      <td>18</td>\n",
              "      <td>female</td>\n",
              "      <td>36.850</td>\n",
              "      <td>0</td>\n",
              "      <td>no</td>\n",
              "      <td>southeast</td>\n",
              "    </tr>\n",
              "    <tr>\n",
              "      <th>1336</th>\n",
              "      <td>21</td>\n",
              "      <td>female</td>\n",
              "      <td>25.800</td>\n",
              "      <td>0</td>\n",
              "      <td>no</td>\n",
              "      <td>southwest</td>\n",
              "    </tr>\n",
              "    <tr>\n",
              "      <th>1337</th>\n",
              "      <td>61</td>\n",
              "      <td>female</td>\n",
              "      <td>29.070</td>\n",
              "      <td>0</td>\n",
              "      <td>yes</td>\n",
              "      <td>northwest</td>\n",
              "    </tr>\n",
              "  </tbody>\n",
              "</table>\n",
              "<p>1338 rows × 6 columns</p>\n",
              "</div>\n",
              "      <button class=\"colab-df-convert\" onclick=\"convertToInteractive('df-74d256a1-5516-48e3-b68c-9118f31b6631')\"\n",
              "              title=\"Convert this dataframe to an interactive table.\"\n",
              "              style=\"display:none;\">\n",
              "        \n",
              "  <svg xmlns=\"http://www.w3.org/2000/svg\" height=\"24px\"viewBox=\"0 0 24 24\"\n",
              "       width=\"24px\">\n",
              "    <path d=\"M0 0h24v24H0V0z\" fill=\"none\"/>\n",
              "    <path d=\"M18.56 5.44l.94 2.06.94-2.06 2.06-.94-2.06-.94-.94-2.06-.94 2.06-2.06.94zm-11 1L8.5 8.5l.94-2.06 2.06-.94-2.06-.94L8.5 2.5l-.94 2.06-2.06.94zm10 10l.94 2.06.94-2.06 2.06-.94-2.06-.94-.94-2.06-.94 2.06-2.06.94z\"/><path d=\"M17.41 7.96l-1.37-1.37c-.4-.4-.92-.59-1.43-.59-.52 0-1.04.2-1.43.59L10.3 9.45l-7.72 7.72c-.78.78-.78 2.05 0 2.83L4 21.41c.39.39.9.59 1.41.59.51 0 1.02-.2 1.41-.59l7.78-7.78 2.81-2.81c.8-.78.8-2.07 0-2.86zM5.41 20L4 18.59l7.72-7.72 1.47 1.35L5.41 20z\"/>\n",
              "  </svg>\n",
              "      </button>\n",
              "      \n",
              "  <style>\n",
              "    .colab-df-container {\n",
              "      display:flex;\n",
              "      flex-wrap:wrap;\n",
              "      gap: 12px;\n",
              "    }\n",
              "\n",
              "    .colab-df-convert {\n",
              "      background-color: #E8F0FE;\n",
              "      border: none;\n",
              "      border-radius: 50%;\n",
              "      cursor: pointer;\n",
              "      display: none;\n",
              "      fill: #1967D2;\n",
              "      height: 32px;\n",
              "      padding: 0 0 0 0;\n",
              "      width: 32px;\n",
              "    }\n",
              "\n",
              "    .colab-df-convert:hover {\n",
              "      background-color: #E2EBFA;\n",
              "      box-shadow: 0px 1px 2px rgba(60, 64, 67, 0.3), 0px 1px 3px 1px rgba(60, 64, 67, 0.15);\n",
              "      fill: #174EA6;\n",
              "    }\n",
              "\n",
              "    [theme=dark] .colab-df-convert {\n",
              "      background-color: #3B4455;\n",
              "      fill: #D2E3FC;\n",
              "    }\n",
              "\n",
              "    [theme=dark] .colab-df-convert:hover {\n",
              "      background-color: #434B5C;\n",
              "      box-shadow: 0px 1px 3px 1px rgba(0, 0, 0, 0.15);\n",
              "      filter: drop-shadow(0px 1px 2px rgba(0, 0, 0, 0.3));\n",
              "      fill: #FFFFFF;\n",
              "    }\n",
              "  </style>\n",
              "\n",
              "      <script>\n",
              "        const buttonEl =\n",
              "          document.querySelector('#df-74d256a1-5516-48e3-b68c-9118f31b6631 button.colab-df-convert');\n",
              "        buttonEl.style.display =\n",
              "          google.colab.kernel.accessAllowed ? 'block' : 'none';\n",
              "\n",
              "        async function convertToInteractive(key) {\n",
              "          const element = document.querySelector('#df-74d256a1-5516-48e3-b68c-9118f31b6631');\n",
              "          const dataTable =\n",
              "            await google.colab.kernel.invokeFunction('convertToInteractive',\n",
              "                                                     [key], {});\n",
              "          if (!dataTable) return;\n",
              "\n",
              "          const docLinkHtml = 'Like what you see? Visit the ' +\n",
              "            '<a target=\"_blank\" href=https://colab.research.google.com/notebooks/data_table.ipynb>data table notebook</a>'\n",
              "            + ' to learn more about interactive tables.';\n",
              "          element.innerHTML = '';\n",
              "          dataTable['output_type'] = 'display_data';\n",
              "          await google.colab.output.renderOutput(dataTable, element);\n",
              "          const docLink = document.createElement('div');\n",
              "          docLink.innerHTML = docLinkHtml;\n",
              "          element.appendChild(docLink);\n",
              "        }\n",
              "      </script>\n",
              "    </div>\n",
              "  </div>\n",
              "  "
            ],
            "text/plain": [
              "      age     sex     bmi  children smoker     region\n",
              "0      19  female  27.900         0    yes  southwest\n",
              "1      18    male  33.770         1     no  southeast\n",
              "2      28    male  33.000         3     no  southeast\n",
              "3      33    male  22.705         0     no  northwest\n",
              "4      32    male  28.880         0     no  northwest\n",
              "...   ...     ...     ...       ...    ...        ...\n",
              "1333   50    male  30.970         3     no  northwest\n",
              "1334   18  female  31.920         0     no  northeast\n",
              "1335   18  female  36.850         0     no  southeast\n",
              "1336   21  female  25.800         0     no  southwest\n",
              "1337   61  female  29.070         0    yes  northwest\n",
              "\n",
              "[1338 rows x 6 columns]"
            ]
          },
          "metadata": {},
          "execution_count": 196
        }
      ]
    },
    {
      "cell_type": "markdown",
      "metadata": {
        "id": "4E8kSPWGPXQV"
      },
      "source": [
        "### **Label Encoding**"
      ]
    },
    {
      "cell_type": "code",
      "metadata": {
        "id": "5azKg6ykA2kz"
      },
      "source": [
        "from sklearn.preprocessing import LabelEncoder"
      ],
      "execution_count": null,
      "outputs": []
    },
    {
      "cell_type": "code",
      "metadata": {
        "id": "TKGQpcXgA4Jf"
      },
      "source": [
        "labelencoder_f = LabelEncoder()\n",
        "#the country column is represented by numeric value\n",
        "features['sex'] = labelencoder_f.fit_transform(features['sex'])\n",
        "features['smoker'] = labelencoder_f.fit_transform(features['smoker'])\n",
        "features['region'] = labelencoder_f.fit_transform(features['region'])"
      ],
      "execution_count": null,
      "outputs": []
    },
    {
      "cell_type": "code",
      "metadata": {
        "id": "yX36g_mUA4GC",
        "colab": {
          "base_uri": "https://localhost:8080/",
          "height": 424
        },
        "outputId": "67457fd2-9010-49ab-a9b1-9c47a2dab5e0"
      },
      "source": [
        "features"
      ],
      "execution_count": null,
      "outputs": [
        {
          "output_type": "execute_result",
          "data": {
            "text/html": [
              "\n",
              "  <div id=\"df-df689a90-7b19-43dd-9ab2-03674f685dac\">\n",
              "    <div class=\"colab-df-container\">\n",
              "      <div>\n",
              "<style scoped>\n",
              "    .dataframe tbody tr th:only-of-type {\n",
              "        vertical-align: middle;\n",
              "    }\n",
              "\n",
              "    .dataframe tbody tr th {\n",
              "        vertical-align: top;\n",
              "    }\n",
              "\n",
              "    .dataframe thead th {\n",
              "        text-align: right;\n",
              "    }\n",
              "</style>\n",
              "<table border=\"1\" class=\"dataframe\">\n",
              "  <thead>\n",
              "    <tr style=\"text-align: right;\">\n",
              "      <th></th>\n",
              "      <th>age</th>\n",
              "      <th>sex</th>\n",
              "      <th>bmi</th>\n",
              "      <th>children</th>\n",
              "      <th>smoker</th>\n",
              "      <th>region</th>\n",
              "    </tr>\n",
              "  </thead>\n",
              "  <tbody>\n",
              "    <tr>\n",
              "      <th>0</th>\n",
              "      <td>19</td>\n",
              "      <td>0</td>\n",
              "      <td>27.900</td>\n",
              "      <td>0</td>\n",
              "      <td>1</td>\n",
              "      <td>3</td>\n",
              "    </tr>\n",
              "    <tr>\n",
              "      <th>1</th>\n",
              "      <td>18</td>\n",
              "      <td>1</td>\n",
              "      <td>33.770</td>\n",
              "      <td>1</td>\n",
              "      <td>0</td>\n",
              "      <td>2</td>\n",
              "    </tr>\n",
              "    <tr>\n",
              "      <th>2</th>\n",
              "      <td>28</td>\n",
              "      <td>1</td>\n",
              "      <td>33.000</td>\n",
              "      <td>3</td>\n",
              "      <td>0</td>\n",
              "      <td>2</td>\n",
              "    </tr>\n",
              "    <tr>\n",
              "      <th>3</th>\n",
              "      <td>33</td>\n",
              "      <td>1</td>\n",
              "      <td>22.705</td>\n",
              "      <td>0</td>\n",
              "      <td>0</td>\n",
              "      <td>1</td>\n",
              "    </tr>\n",
              "    <tr>\n",
              "      <th>4</th>\n",
              "      <td>32</td>\n",
              "      <td>1</td>\n",
              "      <td>28.880</td>\n",
              "      <td>0</td>\n",
              "      <td>0</td>\n",
              "      <td>1</td>\n",
              "    </tr>\n",
              "    <tr>\n",
              "      <th>...</th>\n",
              "      <td>...</td>\n",
              "      <td>...</td>\n",
              "      <td>...</td>\n",
              "      <td>...</td>\n",
              "      <td>...</td>\n",
              "      <td>...</td>\n",
              "    </tr>\n",
              "    <tr>\n",
              "      <th>1333</th>\n",
              "      <td>50</td>\n",
              "      <td>1</td>\n",
              "      <td>30.970</td>\n",
              "      <td>3</td>\n",
              "      <td>0</td>\n",
              "      <td>1</td>\n",
              "    </tr>\n",
              "    <tr>\n",
              "      <th>1334</th>\n",
              "      <td>18</td>\n",
              "      <td>0</td>\n",
              "      <td>31.920</td>\n",
              "      <td>0</td>\n",
              "      <td>0</td>\n",
              "      <td>0</td>\n",
              "    </tr>\n",
              "    <tr>\n",
              "      <th>1335</th>\n",
              "      <td>18</td>\n",
              "      <td>0</td>\n",
              "      <td>36.850</td>\n",
              "      <td>0</td>\n",
              "      <td>0</td>\n",
              "      <td>2</td>\n",
              "    </tr>\n",
              "    <tr>\n",
              "      <th>1336</th>\n",
              "      <td>21</td>\n",
              "      <td>0</td>\n",
              "      <td>25.800</td>\n",
              "      <td>0</td>\n",
              "      <td>0</td>\n",
              "      <td>3</td>\n",
              "    </tr>\n",
              "    <tr>\n",
              "      <th>1337</th>\n",
              "      <td>61</td>\n",
              "      <td>0</td>\n",
              "      <td>29.070</td>\n",
              "      <td>0</td>\n",
              "      <td>1</td>\n",
              "      <td>1</td>\n",
              "    </tr>\n",
              "  </tbody>\n",
              "</table>\n",
              "<p>1338 rows × 6 columns</p>\n",
              "</div>\n",
              "      <button class=\"colab-df-convert\" onclick=\"convertToInteractive('df-df689a90-7b19-43dd-9ab2-03674f685dac')\"\n",
              "              title=\"Convert this dataframe to an interactive table.\"\n",
              "              style=\"display:none;\">\n",
              "        \n",
              "  <svg xmlns=\"http://www.w3.org/2000/svg\" height=\"24px\"viewBox=\"0 0 24 24\"\n",
              "       width=\"24px\">\n",
              "    <path d=\"M0 0h24v24H0V0z\" fill=\"none\"/>\n",
              "    <path d=\"M18.56 5.44l.94 2.06.94-2.06 2.06-.94-2.06-.94-.94-2.06-.94 2.06-2.06.94zm-11 1L8.5 8.5l.94-2.06 2.06-.94-2.06-.94L8.5 2.5l-.94 2.06-2.06.94zm10 10l.94 2.06.94-2.06 2.06-.94-2.06-.94-.94-2.06-.94 2.06-2.06.94z\"/><path d=\"M17.41 7.96l-1.37-1.37c-.4-.4-.92-.59-1.43-.59-.52 0-1.04.2-1.43.59L10.3 9.45l-7.72 7.72c-.78.78-.78 2.05 0 2.83L4 21.41c.39.39.9.59 1.41.59.51 0 1.02-.2 1.41-.59l7.78-7.78 2.81-2.81c.8-.78.8-2.07 0-2.86zM5.41 20L4 18.59l7.72-7.72 1.47 1.35L5.41 20z\"/>\n",
              "  </svg>\n",
              "      </button>\n",
              "      \n",
              "  <style>\n",
              "    .colab-df-container {\n",
              "      display:flex;\n",
              "      flex-wrap:wrap;\n",
              "      gap: 12px;\n",
              "    }\n",
              "\n",
              "    .colab-df-convert {\n",
              "      background-color: #E8F0FE;\n",
              "      border: none;\n",
              "      border-radius: 50%;\n",
              "      cursor: pointer;\n",
              "      display: none;\n",
              "      fill: #1967D2;\n",
              "      height: 32px;\n",
              "      padding: 0 0 0 0;\n",
              "      width: 32px;\n",
              "    }\n",
              "\n",
              "    .colab-df-convert:hover {\n",
              "      background-color: #E2EBFA;\n",
              "      box-shadow: 0px 1px 2px rgba(60, 64, 67, 0.3), 0px 1px 3px 1px rgba(60, 64, 67, 0.15);\n",
              "      fill: #174EA6;\n",
              "    }\n",
              "\n",
              "    [theme=dark] .colab-df-convert {\n",
              "      background-color: #3B4455;\n",
              "      fill: #D2E3FC;\n",
              "    }\n",
              "\n",
              "    [theme=dark] .colab-df-convert:hover {\n",
              "      background-color: #434B5C;\n",
              "      box-shadow: 0px 1px 3px 1px rgba(0, 0, 0, 0.15);\n",
              "      filter: drop-shadow(0px 1px 2px rgba(0, 0, 0, 0.3));\n",
              "      fill: #FFFFFF;\n",
              "    }\n",
              "  </style>\n",
              "\n",
              "      <script>\n",
              "        const buttonEl =\n",
              "          document.querySelector('#df-df689a90-7b19-43dd-9ab2-03674f685dac button.colab-df-convert');\n",
              "        buttonEl.style.display =\n",
              "          google.colab.kernel.accessAllowed ? 'block' : 'none';\n",
              "\n",
              "        async function convertToInteractive(key) {\n",
              "          const element = document.querySelector('#df-df689a90-7b19-43dd-9ab2-03674f685dac');\n",
              "          const dataTable =\n",
              "            await google.colab.kernel.invokeFunction('convertToInteractive',\n",
              "                                                     [key], {});\n",
              "          if (!dataTable) return;\n",
              "\n",
              "          const docLinkHtml = 'Like what you see? Visit the ' +\n",
              "            '<a target=\"_blank\" href=https://colab.research.google.com/notebooks/data_table.ipynb>data table notebook</a>'\n",
              "            + ' to learn more about interactive tables.';\n",
              "          element.innerHTML = '';\n",
              "          dataTable['output_type'] = 'display_data';\n",
              "          await google.colab.output.renderOutput(dataTable, element);\n",
              "          const docLink = document.createElement('div');\n",
              "          docLink.innerHTML = docLinkHtml;\n",
              "          element.appendChild(docLink);\n",
              "        }\n",
              "      </script>\n",
              "    </div>\n",
              "  </div>\n",
              "  "
            ],
            "text/plain": [
              "      age  sex     bmi  children  smoker  region\n",
              "0      19    0  27.900         0       1       3\n",
              "1      18    1  33.770         1       0       2\n",
              "2      28    1  33.000         3       0       2\n",
              "3      33    1  22.705         0       0       1\n",
              "4      32    1  28.880         0       0       1\n",
              "...   ...  ...     ...       ...     ...     ...\n",
              "1333   50    1  30.970         3       0       1\n",
              "1334   18    0  31.920         0       0       0\n",
              "1335   18    0  36.850         0       0       2\n",
              "1336   21    0  25.800         0       0       3\n",
              "1337   61    0  29.070         0       1       1\n",
              "\n",
              "[1338 rows x 6 columns]"
            ]
          },
          "metadata": {},
          "execution_count": 199
        }
      ]
    },
    {
      "cell_type": "markdown",
      "source": [
        "### Taking care of missing values"
      ],
      "metadata": {
        "id": "M-674urA95hf"
      }
    },
    {
      "cell_type": "code",
      "source": [
        "from sklearn.impute import SimpleImputer"
      ],
      "metadata": {
        "id": "uS_KK-yz9-Bz"
      },
      "execution_count": null,
      "outputs": []
    },
    {
      "cell_type": "code",
      "source": [
        "imputer = SimpleImputer(missing_values=np.nan,strategy = \"mean\") # imputer is an object of Imputer class \n",
        "imputer = imputer.fit(features[['age', 'sex', 'bmi', 'children','smoker','region']])"
      ],
      "metadata": {
        "id": "aGa6gUZh-BPD"
      },
      "execution_count": null,
      "outputs": []
    },
    {
      "cell_type": "code",
      "source": [
        "features[['age', 'sex', 'bmi', 'children','smoker','region']]= imputer.transform(features[['age', 'sex', 'bmi', 'children','smoker','region']])"
      ],
      "metadata": {
        "id": "jKf1qVbc-EBD"
      },
      "execution_count": null,
      "outputs": []
    },
    {
      "cell_type": "code",
      "source": [
        "features"
      ],
      "metadata": {
        "colab": {
          "base_uri": "https://localhost:8080/",
          "height": 424
        },
        "id": "PgbHdHal-I55",
        "outputId": "0eddfaff-b003-44e7-9a28-a092e44fdf9c"
      },
      "execution_count": null,
      "outputs": [
        {
          "output_type": "execute_result",
          "data": {
            "text/html": [
              "\n",
              "  <div id=\"df-a4059ac9-df85-4fe7-98d0-3e4db627dd54\">\n",
              "    <div class=\"colab-df-container\">\n",
              "      <div>\n",
              "<style scoped>\n",
              "    .dataframe tbody tr th:only-of-type {\n",
              "        vertical-align: middle;\n",
              "    }\n",
              "\n",
              "    .dataframe tbody tr th {\n",
              "        vertical-align: top;\n",
              "    }\n",
              "\n",
              "    .dataframe thead th {\n",
              "        text-align: right;\n",
              "    }\n",
              "</style>\n",
              "<table border=\"1\" class=\"dataframe\">\n",
              "  <thead>\n",
              "    <tr style=\"text-align: right;\">\n",
              "      <th></th>\n",
              "      <th>age</th>\n",
              "      <th>sex</th>\n",
              "      <th>bmi</th>\n",
              "      <th>children</th>\n",
              "      <th>smoker</th>\n",
              "      <th>region</th>\n",
              "    </tr>\n",
              "  </thead>\n",
              "  <tbody>\n",
              "    <tr>\n",
              "      <th>0</th>\n",
              "      <td>19.0</td>\n",
              "      <td>0.0</td>\n",
              "      <td>27.900</td>\n",
              "      <td>0.0</td>\n",
              "      <td>1.0</td>\n",
              "      <td>3.0</td>\n",
              "    </tr>\n",
              "    <tr>\n",
              "      <th>1</th>\n",
              "      <td>18.0</td>\n",
              "      <td>1.0</td>\n",
              "      <td>33.770</td>\n",
              "      <td>1.0</td>\n",
              "      <td>0.0</td>\n",
              "      <td>2.0</td>\n",
              "    </tr>\n",
              "    <tr>\n",
              "      <th>2</th>\n",
              "      <td>28.0</td>\n",
              "      <td>1.0</td>\n",
              "      <td>33.000</td>\n",
              "      <td>3.0</td>\n",
              "      <td>0.0</td>\n",
              "      <td>2.0</td>\n",
              "    </tr>\n",
              "    <tr>\n",
              "      <th>3</th>\n",
              "      <td>33.0</td>\n",
              "      <td>1.0</td>\n",
              "      <td>22.705</td>\n",
              "      <td>0.0</td>\n",
              "      <td>0.0</td>\n",
              "      <td>1.0</td>\n",
              "    </tr>\n",
              "    <tr>\n",
              "      <th>4</th>\n",
              "      <td>32.0</td>\n",
              "      <td>1.0</td>\n",
              "      <td>28.880</td>\n",
              "      <td>0.0</td>\n",
              "      <td>0.0</td>\n",
              "      <td>1.0</td>\n",
              "    </tr>\n",
              "    <tr>\n",
              "      <th>...</th>\n",
              "      <td>...</td>\n",
              "      <td>...</td>\n",
              "      <td>...</td>\n",
              "      <td>...</td>\n",
              "      <td>...</td>\n",
              "      <td>...</td>\n",
              "    </tr>\n",
              "    <tr>\n",
              "      <th>1333</th>\n",
              "      <td>50.0</td>\n",
              "      <td>1.0</td>\n",
              "      <td>30.970</td>\n",
              "      <td>3.0</td>\n",
              "      <td>0.0</td>\n",
              "      <td>1.0</td>\n",
              "    </tr>\n",
              "    <tr>\n",
              "      <th>1334</th>\n",
              "      <td>18.0</td>\n",
              "      <td>0.0</td>\n",
              "      <td>31.920</td>\n",
              "      <td>0.0</td>\n",
              "      <td>0.0</td>\n",
              "      <td>0.0</td>\n",
              "    </tr>\n",
              "    <tr>\n",
              "      <th>1335</th>\n",
              "      <td>18.0</td>\n",
              "      <td>0.0</td>\n",
              "      <td>36.850</td>\n",
              "      <td>0.0</td>\n",
              "      <td>0.0</td>\n",
              "      <td>2.0</td>\n",
              "    </tr>\n",
              "    <tr>\n",
              "      <th>1336</th>\n",
              "      <td>21.0</td>\n",
              "      <td>0.0</td>\n",
              "      <td>25.800</td>\n",
              "      <td>0.0</td>\n",
              "      <td>0.0</td>\n",
              "      <td>3.0</td>\n",
              "    </tr>\n",
              "    <tr>\n",
              "      <th>1337</th>\n",
              "      <td>61.0</td>\n",
              "      <td>0.0</td>\n",
              "      <td>29.070</td>\n",
              "      <td>0.0</td>\n",
              "      <td>1.0</td>\n",
              "      <td>1.0</td>\n",
              "    </tr>\n",
              "  </tbody>\n",
              "</table>\n",
              "<p>1338 rows × 6 columns</p>\n",
              "</div>\n",
              "      <button class=\"colab-df-convert\" onclick=\"convertToInteractive('df-a4059ac9-df85-4fe7-98d0-3e4db627dd54')\"\n",
              "              title=\"Convert this dataframe to an interactive table.\"\n",
              "              style=\"display:none;\">\n",
              "        \n",
              "  <svg xmlns=\"http://www.w3.org/2000/svg\" height=\"24px\"viewBox=\"0 0 24 24\"\n",
              "       width=\"24px\">\n",
              "    <path d=\"M0 0h24v24H0V0z\" fill=\"none\"/>\n",
              "    <path d=\"M18.56 5.44l.94 2.06.94-2.06 2.06-.94-2.06-.94-.94-2.06-.94 2.06-2.06.94zm-11 1L8.5 8.5l.94-2.06 2.06-.94-2.06-.94L8.5 2.5l-.94 2.06-2.06.94zm10 10l.94 2.06.94-2.06 2.06-.94-2.06-.94-.94-2.06-.94 2.06-2.06.94z\"/><path d=\"M17.41 7.96l-1.37-1.37c-.4-.4-.92-.59-1.43-.59-.52 0-1.04.2-1.43.59L10.3 9.45l-7.72 7.72c-.78.78-.78 2.05 0 2.83L4 21.41c.39.39.9.59 1.41.59.51 0 1.02-.2 1.41-.59l7.78-7.78 2.81-2.81c.8-.78.8-2.07 0-2.86zM5.41 20L4 18.59l7.72-7.72 1.47 1.35L5.41 20z\"/>\n",
              "  </svg>\n",
              "      </button>\n",
              "      \n",
              "  <style>\n",
              "    .colab-df-container {\n",
              "      display:flex;\n",
              "      flex-wrap:wrap;\n",
              "      gap: 12px;\n",
              "    }\n",
              "\n",
              "    .colab-df-convert {\n",
              "      background-color: #E8F0FE;\n",
              "      border: none;\n",
              "      border-radius: 50%;\n",
              "      cursor: pointer;\n",
              "      display: none;\n",
              "      fill: #1967D2;\n",
              "      height: 32px;\n",
              "      padding: 0 0 0 0;\n",
              "      width: 32px;\n",
              "    }\n",
              "\n",
              "    .colab-df-convert:hover {\n",
              "      background-color: #E2EBFA;\n",
              "      box-shadow: 0px 1px 2px rgba(60, 64, 67, 0.3), 0px 1px 3px 1px rgba(60, 64, 67, 0.15);\n",
              "      fill: #174EA6;\n",
              "    }\n",
              "\n",
              "    [theme=dark] .colab-df-convert {\n",
              "      background-color: #3B4455;\n",
              "      fill: #D2E3FC;\n",
              "    }\n",
              "\n",
              "    [theme=dark] .colab-df-convert:hover {\n",
              "      background-color: #434B5C;\n",
              "      box-shadow: 0px 1px 3px 1px rgba(0, 0, 0, 0.15);\n",
              "      filter: drop-shadow(0px 1px 2px rgba(0, 0, 0, 0.3));\n",
              "      fill: #FFFFFF;\n",
              "    }\n",
              "  </style>\n",
              "\n",
              "      <script>\n",
              "        const buttonEl =\n",
              "          document.querySelector('#df-a4059ac9-df85-4fe7-98d0-3e4db627dd54 button.colab-df-convert');\n",
              "        buttonEl.style.display =\n",
              "          google.colab.kernel.accessAllowed ? 'block' : 'none';\n",
              "\n",
              "        async function convertToInteractive(key) {\n",
              "          const element = document.querySelector('#df-a4059ac9-df85-4fe7-98d0-3e4db627dd54');\n",
              "          const dataTable =\n",
              "            await google.colab.kernel.invokeFunction('convertToInteractive',\n",
              "                                                     [key], {});\n",
              "          if (!dataTable) return;\n",
              "\n",
              "          const docLinkHtml = 'Like what you see? Visit the ' +\n",
              "            '<a target=\"_blank\" href=https://colab.research.google.com/notebooks/data_table.ipynb>data table notebook</a>'\n",
              "            + ' to learn more about interactive tables.';\n",
              "          element.innerHTML = '';\n",
              "          dataTable['output_type'] = 'display_data';\n",
              "          await google.colab.output.renderOutput(dataTable, element);\n",
              "          const docLink = document.createElement('div');\n",
              "          docLink.innerHTML = docLinkHtml;\n",
              "          element.appendChild(docLink);\n",
              "        }\n",
              "      </script>\n",
              "    </div>\n",
              "  </div>\n",
              "  "
            ],
            "text/plain": [
              "       age  sex     bmi  children  smoker  region\n",
              "0     19.0  0.0  27.900       0.0     1.0     3.0\n",
              "1     18.0  1.0  33.770       1.0     0.0     2.0\n",
              "2     28.0  1.0  33.000       3.0     0.0     2.0\n",
              "3     33.0  1.0  22.705       0.0     0.0     1.0\n",
              "4     32.0  1.0  28.880       0.0     0.0     1.0\n",
              "...    ...  ...     ...       ...     ...     ...\n",
              "1333  50.0  1.0  30.970       3.0     0.0     1.0\n",
              "1334  18.0  0.0  31.920       0.0     0.0     0.0\n",
              "1335  18.0  0.0  36.850       0.0     0.0     2.0\n",
              "1336  21.0  0.0  25.800       0.0     0.0     3.0\n",
              "1337  61.0  0.0  29.070       0.0     1.0     1.0\n",
              "\n",
              "[1338 rows x 6 columns]"
            ]
          },
          "metadata": {},
          "execution_count": 203
        }
      ]
    },
    {
      "cell_type": "code",
      "source": [
        "imputer = SimpleImputer(missing_values=np.nan,strategy = \"mean\") # imputer is an object of Imputer class \n",
        "imputer = imputer.fit(target[['charges']])"
      ],
      "metadata": {
        "id": "OdDKb6XZD-Ez"
      },
      "execution_count": null,
      "outputs": []
    },
    {
      "cell_type": "code",
      "source": [
        "target[['charges']]= imputer.transform(target[['charges']])"
      ],
      "metadata": {
        "id": "0YvvA2IzEIgq"
      },
      "execution_count": null,
      "outputs": []
    },
    {
      "cell_type": "code",
      "source": [
        "target"
      ],
      "metadata": {
        "colab": {
          "base_uri": "https://localhost:8080/",
          "height": 424
        },
        "id": "oGhAH45LENuS",
        "outputId": "cd841486-77f4-44cb-cecc-6bae171c418a"
      },
      "execution_count": null,
      "outputs": [
        {
          "output_type": "execute_result",
          "data": {
            "text/html": [
              "\n",
              "  <div id=\"df-f6d50c28-d20b-474c-8c57-8aedb3ac9311\">\n",
              "    <div class=\"colab-df-container\">\n",
              "      <div>\n",
              "<style scoped>\n",
              "    .dataframe tbody tr th:only-of-type {\n",
              "        vertical-align: middle;\n",
              "    }\n",
              "\n",
              "    .dataframe tbody tr th {\n",
              "        vertical-align: top;\n",
              "    }\n",
              "\n",
              "    .dataframe thead th {\n",
              "        text-align: right;\n",
              "    }\n",
              "</style>\n",
              "<table border=\"1\" class=\"dataframe\">\n",
              "  <thead>\n",
              "    <tr style=\"text-align: right;\">\n",
              "      <th></th>\n",
              "      <th>charges</th>\n",
              "    </tr>\n",
              "  </thead>\n",
              "  <tbody>\n",
              "    <tr>\n",
              "      <th>0</th>\n",
              "      <td>16884.92400</td>\n",
              "    </tr>\n",
              "    <tr>\n",
              "      <th>1</th>\n",
              "      <td>1725.55230</td>\n",
              "    </tr>\n",
              "    <tr>\n",
              "      <th>2</th>\n",
              "      <td>4449.46200</td>\n",
              "    </tr>\n",
              "    <tr>\n",
              "      <th>3</th>\n",
              "      <td>21984.47061</td>\n",
              "    </tr>\n",
              "    <tr>\n",
              "      <th>4</th>\n",
              "      <td>3866.85520</td>\n",
              "    </tr>\n",
              "    <tr>\n",
              "      <th>...</th>\n",
              "      <td>...</td>\n",
              "    </tr>\n",
              "    <tr>\n",
              "      <th>1333</th>\n",
              "      <td>10600.54830</td>\n",
              "    </tr>\n",
              "    <tr>\n",
              "      <th>1334</th>\n",
              "      <td>2205.98080</td>\n",
              "    </tr>\n",
              "    <tr>\n",
              "      <th>1335</th>\n",
              "      <td>1629.83350</td>\n",
              "    </tr>\n",
              "    <tr>\n",
              "      <th>1336</th>\n",
              "      <td>2007.94500</td>\n",
              "    </tr>\n",
              "    <tr>\n",
              "      <th>1337</th>\n",
              "      <td>29141.36030</td>\n",
              "    </tr>\n",
              "  </tbody>\n",
              "</table>\n",
              "<p>1338 rows × 1 columns</p>\n",
              "</div>\n",
              "      <button class=\"colab-df-convert\" onclick=\"convertToInteractive('df-f6d50c28-d20b-474c-8c57-8aedb3ac9311')\"\n",
              "              title=\"Convert this dataframe to an interactive table.\"\n",
              "              style=\"display:none;\">\n",
              "        \n",
              "  <svg xmlns=\"http://www.w3.org/2000/svg\" height=\"24px\"viewBox=\"0 0 24 24\"\n",
              "       width=\"24px\">\n",
              "    <path d=\"M0 0h24v24H0V0z\" fill=\"none\"/>\n",
              "    <path d=\"M18.56 5.44l.94 2.06.94-2.06 2.06-.94-2.06-.94-.94-2.06-.94 2.06-2.06.94zm-11 1L8.5 8.5l.94-2.06 2.06-.94-2.06-.94L8.5 2.5l-.94 2.06-2.06.94zm10 10l.94 2.06.94-2.06 2.06-.94-2.06-.94-.94-2.06-.94 2.06-2.06.94z\"/><path d=\"M17.41 7.96l-1.37-1.37c-.4-.4-.92-.59-1.43-.59-.52 0-1.04.2-1.43.59L10.3 9.45l-7.72 7.72c-.78.78-.78 2.05 0 2.83L4 21.41c.39.39.9.59 1.41.59.51 0 1.02-.2 1.41-.59l7.78-7.78 2.81-2.81c.8-.78.8-2.07 0-2.86zM5.41 20L4 18.59l7.72-7.72 1.47 1.35L5.41 20z\"/>\n",
              "  </svg>\n",
              "      </button>\n",
              "      \n",
              "  <style>\n",
              "    .colab-df-container {\n",
              "      display:flex;\n",
              "      flex-wrap:wrap;\n",
              "      gap: 12px;\n",
              "    }\n",
              "\n",
              "    .colab-df-convert {\n",
              "      background-color: #E8F0FE;\n",
              "      border: none;\n",
              "      border-radius: 50%;\n",
              "      cursor: pointer;\n",
              "      display: none;\n",
              "      fill: #1967D2;\n",
              "      height: 32px;\n",
              "      padding: 0 0 0 0;\n",
              "      width: 32px;\n",
              "    }\n",
              "\n",
              "    .colab-df-convert:hover {\n",
              "      background-color: #E2EBFA;\n",
              "      box-shadow: 0px 1px 2px rgba(60, 64, 67, 0.3), 0px 1px 3px 1px rgba(60, 64, 67, 0.15);\n",
              "      fill: #174EA6;\n",
              "    }\n",
              "\n",
              "    [theme=dark] .colab-df-convert {\n",
              "      background-color: #3B4455;\n",
              "      fill: #D2E3FC;\n",
              "    }\n",
              "\n",
              "    [theme=dark] .colab-df-convert:hover {\n",
              "      background-color: #434B5C;\n",
              "      box-shadow: 0px 1px 3px 1px rgba(0, 0, 0, 0.15);\n",
              "      filter: drop-shadow(0px 1px 2px rgba(0, 0, 0, 0.3));\n",
              "      fill: #FFFFFF;\n",
              "    }\n",
              "  </style>\n",
              "\n",
              "      <script>\n",
              "        const buttonEl =\n",
              "          document.querySelector('#df-f6d50c28-d20b-474c-8c57-8aedb3ac9311 button.colab-df-convert');\n",
              "        buttonEl.style.display =\n",
              "          google.colab.kernel.accessAllowed ? 'block' : 'none';\n",
              "\n",
              "        async function convertToInteractive(key) {\n",
              "          const element = document.querySelector('#df-f6d50c28-d20b-474c-8c57-8aedb3ac9311');\n",
              "          const dataTable =\n",
              "            await google.colab.kernel.invokeFunction('convertToInteractive',\n",
              "                                                     [key], {});\n",
              "          if (!dataTable) return;\n",
              "\n",
              "          const docLinkHtml = 'Like what you see? Visit the ' +\n",
              "            '<a target=\"_blank\" href=https://colab.research.google.com/notebooks/data_table.ipynb>data table notebook</a>'\n",
              "            + ' to learn more about interactive tables.';\n",
              "          element.innerHTML = '';\n",
              "          dataTable['output_type'] = 'display_data';\n",
              "          await google.colab.output.renderOutput(dataTable, element);\n",
              "          const docLink = document.createElement('div');\n",
              "          docLink.innerHTML = docLinkHtml;\n",
              "          element.appendChild(docLink);\n",
              "        }\n",
              "      </script>\n",
              "    </div>\n",
              "  </div>\n",
              "  "
            ],
            "text/plain": [
              "          charges\n",
              "0     16884.92400\n",
              "1      1725.55230\n",
              "2      4449.46200\n",
              "3     21984.47061\n",
              "4      3866.85520\n",
              "...           ...\n",
              "1333  10600.54830\n",
              "1334   2205.98080\n",
              "1335   1629.83350\n",
              "1336   2007.94500\n",
              "1337  29141.36030\n",
              "\n",
              "[1338 rows x 1 columns]"
            ]
          },
          "metadata": {},
          "execution_count": 206
        }
      ]
    },
    {
      "cell_type": "markdown",
      "metadata": {
        "id": "qgMEwFM6PJQ8"
      },
      "source": [
        "### **Splitting Dataset**"
      ]
    },
    {
      "cell_type": "code",
      "metadata": {
        "id": "MLrOHTwcDGPP"
      },
      "source": [
        "from sklearn.model_selection import train_test_split"
      ],
      "execution_count": null,
      "outputs": []
    },
    {
      "cell_type": "code",
      "metadata": {
        "id": "W9khVh8_DHRp"
      },
      "source": [
        "\"\"\"Spliting the Dataset into Training Set and Test Set \"\"\"\n",
        "\n",
        "X_train,X_test,y_train,y_test=train_test_split(features,target,test_size = 0.2,random_state = 0)\n",
        "# random_state = 0 is select to get the same result"
      ],
      "execution_count": null,
      "outputs": []
    },
    {
      "cell_type": "code",
      "metadata": {
        "id": "O6_VUd3KDMfC",
        "colab": {
          "base_uri": "https://localhost:8080/"
        },
        "outputId": "999043bf-a4c2-4542-815f-5fc2173aad5a"
      },
      "source": [
        "print(X_train.shape)\n",
        "print(X_test.shape)"
      ],
      "execution_count": null,
      "outputs": [
        {
          "output_type": "stream",
          "name": "stdout",
          "text": [
            "(1070, 6)\n",
            "(268, 6)\n"
          ]
        }
      ]
    },
    {
      "cell_type": "markdown",
      "metadata": {
        "id": "gyrekZKMPtUf"
      },
      "source": [
        "### **Feature Scaling**"
      ]
    },
    {
      "cell_type": "code",
      "metadata": {
        "id": "d4gRByHwFip3"
      },
      "source": [
        "from sklearn.preprocessing import StandardScaler\n",
        "X_sc = StandardScaler()\n",
        "y_sc = StandardScaler()\n",
        "y_train = y_sc.fit_transform(y_train[['charges']])\n",
        "y_test = y_sc.transform(y_test[['charges']])"
      ],
      "execution_count": null,
      "outputs": []
    },
    {
      "cell_type": "markdown",
      "source": [
        "### Different types of Regression Algorithm\n",
        "\n",
        "1. Linear Regression (Univariate or Multivariate)\n",
        "2. Support Vector Regression\n",
        "3. Decision Tree Regression\n",
        "4. Random Forest Regressrion"
      ],
      "metadata": {
        "id": "SzECkz2GmLjw"
      }
    },
    {
      "cell_type": "markdown",
      "metadata": {
        "id": "yl9CDdnCPyNF"
      },
      "source": [
        "### **Simple Linear Regression**"
      ]
    },
    {
      "cell_type": "code",
      "metadata": {
        "id": "l5XmPFTXDNT3",
        "colab": {
          "base_uri": "https://localhost:8080/"
        },
        "outputId": "c0f4e896-b990-440d-f28d-0ae227caceb9"
      },
      "source": [
        "from sklearn.linear_model import LinearRegression\n",
        "\n",
        "\n",
        "regressor = LinearRegression()\n",
        "\n",
        "\n",
        "regressor.fit(X_train,y_train)"
      ],
      "execution_count": null,
      "outputs": [
        {
          "output_type": "execute_result",
          "data": {
            "text/plain": [
              "LinearRegression()"
            ]
          },
          "metadata": {},
          "execution_count": 211
        }
      ]
    },
    {
      "cell_type": "code",
      "metadata": {
        "id": "QPmNm5oTDS3_"
      },
      "source": [
        "# predicting the Test set Results\n",
        "y_pred = regressor.predict(X_test)"
      ],
      "execution_count": null,
      "outputs": []
    },
    {
      "cell_type": "code",
      "metadata": {
        "colab": {
          "base_uri": "https://localhost:8080/"
        },
        "id": "-qoVX9vS_PCp",
        "outputId": "d5d1d5f6-e6af-4de4-fa4c-edbf800ade8b"
      },
      "source": [
        "regressor.score(X_train,y_train)"
      ],
      "execution_count": null,
      "outputs": [
        {
          "output_type": "execute_result",
          "data": {
            "text/plain": [
              "0.7368306228430945"
            ]
          },
          "metadata": {},
          "execution_count": 213
        }
      ]
    },
    {
      "cell_type": "code",
      "metadata": {
        "id": "13qUvnP9DaRf",
        "colab": {
          "base_uri": "https://localhost:8080/"
        },
        "outputId": "bf81f85d-bb39-44de-9837-169b55b1948a"
      },
      "source": [
        "y_test"
      ],
      "execution_count": null,
      "outputs": [
        {
          "output_type": "execute_result",
          "data": {
            "text/plain": [
              "array([[-2.90360755e-01],\n",
              "       [-3.88647200e-01],\n",
              "       [ 2.71438394e+00],\n",
              "       [-2.09721124e-02],\n",
              "       [-2.97065319e-01],\n",
              "       [-7.26671304e-01],\n",
              "       [-9.18940714e-01],\n",
              "       [-1.47361673e-01],\n",
              "       [-4.73043767e-01],\n",
              "       [-6.49444142e-01],\n",
              "       [-5.38531882e-01],\n",
              "       [-2.26101189e-01],\n",
              "       [-4.89698454e-01],\n",
              "       [-7.52999425e-01],\n",
              "       [ 4.26736889e-01],\n",
              "       [-2.08671402e-01],\n",
              "       [-5.65894545e-02],\n",
              "       [-8.11006298e-01],\n",
              "       [-5.63185752e-01],\n",
              "       [ 1.69328373e+00],\n",
              "       [ 8.99164540e-01],\n",
              "       [-4.65863314e-02],\n",
              "       [ 8.22176839e-01],\n",
              "       [ 8.23835038e-01],\n",
              "       [-9.62666851e-01],\n",
              "       [-7.12701491e-01],\n",
              "       [-7.90788753e-01],\n",
              "       [-4.60891484e-01],\n",
              "       [-7.88784629e-01],\n",
              "       [-3.99857588e-01],\n",
              "       [-4.29404684e-01],\n",
              "       [ 2.98733744e+00],\n",
              "       [-1.85261566e-02],\n",
              "       [ 6.20458841e-01],\n",
              "       [ 1.14477957e-01],\n",
              "       [-7.56972780e-01],\n",
              "       [-4.05394683e-01],\n",
              "       [ 3.17310604e+00],\n",
              "       [ 2.23844447e+00],\n",
              "       [-9.45474413e-01],\n",
              "       [-6.46686140e-01],\n",
              "       [-8.63073476e-01],\n",
              "       [ 5.80290287e-01],\n",
              "       [ 2.86425349e+00],\n",
              "       [ 1.91658125e+00],\n",
              "       [ 1.07050601e+00],\n",
              "       [ 5.46888400e-01],\n",
              "       [-5.22841324e-01],\n",
              "       [-7.08475856e-01],\n",
              "       [ 7.50925765e-01],\n",
              "       [-8.60370040e-01],\n",
              "       [ 4.70830846e-01],\n",
              "       [ 8.65831844e-01],\n",
              "       [ 2.76057657e+00],\n",
              "       [ 9.20875224e-01],\n",
              "       [-8.29522299e-01],\n",
              "       [-9.08548487e-01],\n",
              "       [-3.65302549e-01],\n",
              "       [ 1.06664020e-01],\n",
              "       [-7.39773739e-03],\n",
              "       [-9.97802290e-01],\n",
              "       [ 2.79924934e+00],\n",
              "       [ 6.00189764e-02],\n",
              "       [-2.98222493e-01],\n",
              "       [-2.05812741e-01],\n",
              "       [-2.77370634e-01],\n",
              "       [ 1.61582334e+00],\n",
              "       [ 2.13346507e+00],\n",
              "       [-8.36899933e-01],\n",
              "       [-4.20799295e-01],\n",
              "       [-1.33010608e-02],\n",
              "       [-1.37549600e-01],\n",
              "       [ 2.53196612e-01],\n",
              "       [ 5.73585815e-02],\n",
              "       [-1.57825574e-02],\n",
              "       [ 1.32896510e-03],\n",
              "       [-5.05620452e-01],\n",
              "       [-4.56819420e-01],\n",
              "       [ 5.92612482e-01],\n",
              "       [ 2.85651858e+00],\n",
              "       [-1.28850805e-01],\n",
              "       [ 2.72784549e+00],\n",
              "       [-9.30872415e-01],\n",
              "       [-4.81070695e-01],\n",
              "       [ 2.32454159e+00],\n",
              "       [ 4.82004743e-01],\n",
              "       [-8.17706486e-01],\n",
              "       [-8.77066912e-01],\n",
              "       [-7.24391093e-02],\n",
              "       [ 1.97403980e+00],\n",
              "       [-5.73500131e-01],\n",
              "       [-2.49428402e-01],\n",
              "       [ 3.90670648e-01],\n",
              "       [-3.91314126e-01],\n",
              "       [-7.25127319e-01],\n",
              "       [-6.72534245e-01],\n",
              "       [ 2.43056442e+00],\n",
              "       [ 2.15452739e+00],\n",
              "       [-6.57597364e-01],\n",
              "       [-2.17044634e-01],\n",
              "       [-9.50168221e-01],\n",
              "       [-6.53416690e-01],\n",
              "       [-7.39272172e-01],\n",
              "       [ 2.04963208e+00],\n",
              "       [ 1.63579385e+00],\n",
              "       [-8.22454756e-01],\n",
              "       [-2.19157456e-01],\n",
              "       [-8.05462985e-01],\n",
              "       [-1.04946871e-01],\n",
              "       [ 3.28971883e+00],\n",
              "       [-6.06194588e-02],\n",
              "       [-7.46228849e-01],\n",
              "       [-3.30034401e-01],\n",
              "       [ 1.71473679e+00],\n",
              "       [ 2.96272239e+00],\n",
              "       [-4.56968194e-01],\n",
              "       [-9.38434485e-01],\n",
              "       [-3.97267635e-01],\n",
              "       [-7.13246538e-02],\n",
              "       [-3.25658230e-01],\n",
              "       [ 2.41560005e+00],\n",
              "       [-2.68102743e-01],\n",
              "       [ 9.33597777e-02],\n",
              "       [-6.49134764e-01],\n",
              "       [-4.65541479e-01],\n",
              "       [-6.92757382e-01],\n",
              "       [ 8.51887266e-01],\n",
              "       [ 6.59567554e-01],\n",
              "       [ 2.92078359e+00],\n",
              "       [-9.42398352e-01],\n",
              "       [-4.16081596e-01],\n",
              "       [-9.58414148e-01],\n",
              "       [-6.03358623e-01],\n",
              "       [-3.20694522e-01],\n",
              "       [ 7.46883098e-01],\n",
              "       [ 1.86163990e+00],\n",
              "       [ 5.27358555e-01],\n",
              "       [-2.58399451e-01],\n",
              "       [ 8.38815502e-01],\n",
              "       [-8.69593024e-01],\n",
              "       [-9.13647472e-01],\n",
              "       [-2.17703039e-01],\n",
              "       [-3.25423684e-01],\n",
              "       [-2.31018736e-01],\n",
              "       [-6.93730889e-01],\n",
              "       [ 9.29267653e-02],\n",
              "       [ 1.26000246e+00],\n",
              "       [ 1.02299712e-01],\n",
              "       [-9.66621385e-01],\n",
              "       [ 1.02859393e+00],\n",
              "       [-5.55065615e-01],\n",
              "       [ 2.20574120e+00],\n",
              "       [-2.70355845e-01],\n",
              "       [-9.58848321e-01],\n",
              "       [-8.74516334e-01],\n",
              "       [-5.59645243e-01],\n",
              "       [-8.81768926e-01],\n",
              "       [-9.58924940e-01],\n",
              "       [-1.76688902e-01],\n",
              "       [-2.57748997e-01],\n",
              "       [-6.97725787e-01],\n",
              "       [-1.82324511e-02],\n",
              "       [ 1.31305595e+00],\n",
              "       [-3.18187398e-01],\n",
              "       [-7.23005264e-01],\n",
              "       [ 3.27993000e-01],\n",
              "       [ 5.37287088e-02],\n",
              "       [-5.91966861e-01],\n",
              "       [-7.31609359e-01],\n",
              "       [-9.66063543e-01],\n",
              "       [-7.63554803e-01],\n",
              "       [-7.32120398e-01],\n",
              "       [-4.08428463e-01],\n",
              "       [-9.36584292e-01],\n",
              "       [-7.46681664e-01],\n",
              "       [-7.26310246e-01],\n",
              "       [-7.32638736e-01],\n",
              "       [-5.91610789e-01],\n",
              "       [ 1.41843812e+00],\n",
              "       [-9.59802753e-01],\n",
              "       [-1.68164295e-01],\n",
              "       [-5.34871713e-01],\n",
              "       [-1.54049513e-01],\n",
              "       [-8.93866756e-01],\n",
              "       [ 1.18383523e+00],\n",
              "       [ 1.24442107e+00],\n",
              "       [-9.14213060e-01],\n",
              "       [-8.85568088e-01],\n",
              "       [ 1.24565061e-01],\n",
              "       [-2.36376599e-01],\n",
              "       [ 2.32979820e+00],\n",
              "       [-7.69963561e-01],\n",
              "       [-6.45483277e-01],\n",
              "       [ 6.70017391e-01],\n",
              "       [-8.90861856e-01],\n",
              "       [-9.37752148e-01],\n",
              "       [-5.67481274e-01],\n",
              "       [-5.55342913e-01],\n",
              "       [-7.63604608e-01],\n",
              "       [-7.48114316e-01],\n",
              "       [-1.41042179e-01],\n",
              "       [ 2.81353898e+00],\n",
              "       [-7.78840854e-02],\n",
              "       [ 5.01000680e-01],\n",
              "       [-7.32262920e-01],\n",
              "       [ 2.48620038e+00],\n",
              "       [ 8.38538586e-01],\n",
              "       [-3.39099724e-01],\n",
              "       [-6.15077000e-01],\n",
              "       [-1.00653320e+00],\n",
              "       [-3.70477358e-01],\n",
              "       [ 7.03462137e-02],\n",
              "       [-6.58869367e-01],\n",
              "       [-2.00879657e-01],\n",
              "       [-5.77852099e-01],\n",
              "       [-9.38030762e-01],\n",
              "       [-5.39057665e-01],\n",
              "       [-6.55369589e-01],\n",
              "       [ 6.68226169e-02],\n",
              "       [-5.28097049e-01],\n",
              "       [-5.85016802e-01],\n",
              "       [-4.35518476e-01],\n",
              "       [-4.11210940e-01],\n",
              "       [-8.34730048e-01],\n",
              "       [-1.13002399e-01],\n",
              "       [ 8.42985590e-02],\n",
              "       [-7.81451063e-02],\n",
              "       [-1.13919503e-01],\n",
              "       [-5.46926144e-01],\n",
              "       [-9.23996541e-01],\n",
              "       [-1.00802727e+00],\n",
              "       [-4.05750096e-01],\n",
              "       [-7.98969578e-02],\n",
              "       [-7.21589336e-01],\n",
              "       [ 3.69569057e-01],\n",
              "       [-5.28265679e-01],\n",
              "       [-3.13507387e-01],\n",
              "       [ 1.75827995e+00],\n",
              "       [-5.95817370e-01],\n",
              "       [-1.22895989e-01],\n",
              "       [-6.52909055e-01],\n",
              "       [ 2.02647840e+00],\n",
              "       [-4.86856860e-01],\n",
              "       [-4.90759108e-01],\n",
              "       [-4.00142900e-01],\n",
              "       [-2.28770938e-01],\n",
              "       [-8.28601779e-01],\n",
              "       [-4.57168013e-01],\n",
              "       [-8.74365639e-01],\n",
              "       [-5.29725679e-01],\n",
              "       [ 5.27895287e-01],\n",
              "       [ 2.84828586e+00],\n",
              "       [-7.69466699e-01],\n",
              "       [-8.32062140e-01],\n",
              "       [-4.90868798e-01],\n",
              "       [-9.60166692e-01],\n",
              "       [-4.80664383e-01],\n",
              "       [-9.66408328e-01],\n",
              "       [-6.95131663e-01],\n",
              "       [-8.05048187e-01],\n",
              "       [-3.83830738e-01],\n",
              "       [ 9.45339690e-01],\n",
              "       [ 2.71506757e+00],\n",
              "       [ 1.51882809e-01],\n",
              "       [-5.45910811e-01],\n",
              "       [ 6.27034732e-01],\n",
              "       [ 2.31604020e+00],\n",
              "       [-3.09065045e-01]])"
            ]
          },
          "metadata": {},
          "execution_count": 214
        }
      ]
    },
    {
      "cell_type": "code",
      "metadata": {
        "id": "KK_nepLGDdY4",
        "colab": {
          "base_uri": "https://localhost:8080/",
          "height": 424
        },
        "outputId": "3e85ed2f-26bc-4f77-bc25-7be330d6c823"
      },
      "source": [
        "X_test"
      ],
      "execution_count": null,
      "outputs": [
        {
          "output_type": "execute_result",
          "data": {
            "text/html": [
              "\n",
              "  <div id=\"df-66e200f3-808a-47f5-8684-c977a85b5f54\">\n",
              "    <div class=\"colab-df-container\">\n",
              "      <div>\n",
              "<style scoped>\n",
              "    .dataframe tbody tr th:only-of-type {\n",
              "        vertical-align: middle;\n",
              "    }\n",
              "\n",
              "    .dataframe tbody tr th {\n",
              "        vertical-align: top;\n",
              "    }\n",
              "\n",
              "    .dataframe thead th {\n",
              "        text-align: right;\n",
              "    }\n",
              "</style>\n",
              "<table border=\"1\" class=\"dataframe\">\n",
              "  <thead>\n",
              "    <tr style=\"text-align: right;\">\n",
              "      <th></th>\n",
              "      <th>age</th>\n",
              "      <th>sex</th>\n",
              "      <th>bmi</th>\n",
              "      <th>children</th>\n",
              "      <th>smoker</th>\n",
              "      <th>region</th>\n",
              "    </tr>\n",
              "  </thead>\n",
              "  <tbody>\n",
              "    <tr>\n",
              "      <th>578</th>\n",
              "      <td>52.0</td>\n",
              "      <td>1.0</td>\n",
              "      <td>30.200</td>\n",
              "      <td>1.0</td>\n",
              "      <td>0.0</td>\n",
              "      <td>3.0</td>\n",
              "    </tr>\n",
              "    <tr>\n",
              "      <th>610</th>\n",
              "      <td>47.0</td>\n",
              "      <td>0.0</td>\n",
              "      <td>29.370</td>\n",
              "      <td>1.0</td>\n",
              "      <td>0.0</td>\n",
              "      <td>2.0</td>\n",
              "    </tr>\n",
              "    <tr>\n",
              "      <th>569</th>\n",
              "      <td>48.0</td>\n",
              "      <td>1.0</td>\n",
              "      <td>40.565</td>\n",
              "      <td>2.0</td>\n",
              "      <td>1.0</td>\n",
              "      <td>1.0</td>\n",
              "    </tr>\n",
              "    <tr>\n",
              "      <th>1034</th>\n",
              "      <td>61.0</td>\n",
              "      <td>1.0</td>\n",
              "      <td>38.380</td>\n",
              "      <td>0.0</td>\n",
              "      <td>0.0</td>\n",
              "      <td>1.0</td>\n",
              "    </tr>\n",
              "    <tr>\n",
              "      <th>198</th>\n",
              "      <td>51.0</td>\n",
              "      <td>0.0</td>\n",
              "      <td>18.050</td>\n",
              "      <td>0.0</td>\n",
              "      <td>0.0</td>\n",
              "      <td>1.0</td>\n",
              "    </tr>\n",
              "    <tr>\n",
              "      <th>...</th>\n",
              "      <td>...</td>\n",
              "      <td>...</td>\n",
              "      <td>...</td>\n",
              "      <td>...</td>\n",
              "      <td>...</td>\n",
              "      <td>...</td>\n",
              "    </tr>\n",
              "    <tr>\n",
              "      <th>1084</th>\n",
              "      <td>62.0</td>\n",
              "      <td>0.0</td>\n",
              "      <td>30.495</td>\n",
              "      <td>2.0</td>\n",
              "      <td>0.0</td>\n",
              "      <td>1.0</td>\n",
              "    </tr>\n",
              "    <tr>\n",
              "      <th>726</th>\n",
              "      <td>41.0</td>\n",
              "      <td>1.0</td>\n",
              "      <td>28.405</td>\n",
              "      <td>1.0</td>\n",
              "      <td>0.0</td>\n",
              "      <td>1.0</td>\n",
              "    </tr>\n",
              "    <tr>\n",
              "      <th>1132</th>\n",
              "      <td>57.0</td>\n",
              "      <td>1.0</td>\n",
              "      <td>40.280</td>\n",
              "      <td>0.0</td>\n",
              "      <td>0.0</td>\n",
              "      <td>0.0</td>\n",
              "    </tr>\n",
              "    <tr>\n",
              "      <th>725</th>\n",
              "      <td>30.0</td>\n",
              "      <td>0.0</td>\n",
              "      <td>39.050</td>\n",
              "      <td>3.0</td>\n",
              "      <td>1.0</td>\n",
              "      <td>2.0</td>\n",
              "    </tr>\n",
              "    <tr>\n",
              "      <th>963</th>\n",
              "      <td>46.0</td>\n",
              "      <td>1.0</td>\n",
              "      <td>24.795</td>\n",
              "      <td>3.0</td>\n",
              "      <td>0.0</td>\n",
              "      <td>0.0</td>\n",
              "    </tr>\n",
              "  </tbody>\n",
              "</table>\n",
              "<p>268 rows × 6 columns</p>\n",
              "</div>\n",
              "      <button class=\"colab-df-convert\" onclick=\"convertToInteractive('df-66e200f3-808a-47f5-8684-c977a85b5f54')\"\n",
              "              title=\"Convert this dataframe to an interactive table.\"\n",
              "              style=\"display:none;\">\n",
              "        \n",
              "  <svg xmlns=\"http://www.w3.org/2000/svg\" height=\"24px\"viewBox=\"0 0 24 24\"\n",
              "       width=\"24px\">\n",
              "    <path d=\"M0 0h24v24H0V0z\" fill=\"none\"/>\n",
              "    <path d=\"M18.56 5.44l.94 2.06.94-2.06 2.06-.94-2.06-.94-.94-2.06-.94 2.06-2.06.94zm-11 1L8.5 8.5l.94-2.06 2.06-.94-2.06-.94L8.5 2.5l-.94 2.06-2.06.94zm10 10l.94 2.06.94-2.06 2.06-.94-2.06-.94-.94-2.06-.94 2.06-2.06.94z\"/><path d=\"M17.41 7.96l-1.37-1.37c-.4-.4-.92-.59-1.43-.59-.52 0-1.04.2-1.43.59L10.3 9.45l-7.72 7.72c-.78.78-.78 2.05 0 2.83L4 21.41c.39.39.9.59 1.41.59.51 0 1.02-.2 1.41-.59l7.78-7.78 2.81-2.81c.8-.78.8-2.07 0-2.86zM5.41 20L4 18.59l7.72-7.72 1.47 1.35L5.41 20z\"/>\n",
              "  </svg>\n",
              "      </button>\n",
              "      \n",
              "  <style>\n",
              "    .colab-df-container {\n",
              "      display:flex;\n",
              "      flex-wrap:wrap;\n",
              "      gap: 12px;\n",
              "    }\n",
              "\n",
              "    .colab-df-convert {\n",
              "      background-color: #E8F0FE;\n",
              "      border: none;\n",
              "      border-radius: 50%;\n",
              "      cursor: pointer;\n",
              "      display: none;\n",
              "      fill: #1967D2;\n",
              "      height: 32px;\n",
              "      padding: 0 0 0 0;\n",
              "      width: 32px;\n",
              "    }\n",
              "\n",
              "    .colab-df-convert:hover {\n",
              "      background-color: #E2EBFA;\n",
              "      box-shadow: 0px 1px 2px rgba(60, 64, 67, 0.3), 0px 1px 3px 1px rgba(60, 64, 67, 0.15);\n",
              "      fill: #174EA6;\n",
              "    }\n",
              "\n",
              "    [theme=dark] .colab-df-convert {\n",
              "      background-color: #3B4455;\n",
              "      fill: #D2E3FC;\n",
              "    }\n",
              "\n",
              "    [theme=dark] .colab-df-convert:hover {\n",
              "      background-color: #434B5C;\n",
              "      box-shadow: 0px 1px 3px 1px rgba(0, 0, 0, 0.15);\n",
              "      filter: drop-shadow(0px 1px 2px rgba(0, 0, 0, 0.3));\n",
              "      fill: #FFFFFF;\n",
              "    }\n",
              "  </style>\n",
              "\n",
              "      <script>\n",
              "        const buttonEl =\n",
              "          document.querySelector('#df-66e200f3-808a-47f5-8684-c977a85b5f54 button.colab-df-convert');\n",
              "        buttonEl.style.display =\n",
              "          google.colab.kernel.accessAllowed ? 'block' : 'none';\n",
              "\n",
              "        async function convertToInteractive(key) {\n",
              "          const element = document.querySelector('#df-66e200f3-808a-47f5-8684-c977a85b5f54');\n",
              "          const dataTable =\n",
              "            await google.colab.kernel.invokeFunction('convertToInteractive',\n",
              "                                                     [key], {});\n",
              "          if (!dataTable) return;\n",
              "\n",
              "          const docLinkHtml = 'Like what you see? Visit the ' +\n",
              "            '<a target=\"_blank\" href=https://colab.research.google.com/notebooks/data_table.ipynb>data table notebook</a>'\n",
              "            + ' to learn more about interactive tables.';\n",
              "          element.innerHTML = '';\n",
              "          dataTable['output_type'] = 'display_data';\n",
              "          await google.colab.output.renderOutput(dataTable, element);\n",
              "          const docLink = document.createElement('div');\n",
              "          docLink.innerHTML = docLinkHtml;\n",
              "          element.appendChild(docLink);\n",
              "        }\n",
              "      </script>\n",
              "    </div>\n",
              "  </div>\n",
              "  "
            ],
            "text/plain": [
              "       age  sex     bmi  children  smoker  region\n",
              "578   52.0  1.0  30.200       1.0     0.0     3.0\n",
              "610   47.0  0.0  29.370       1.0     0.0     2.0\n",
              "569   48.0  1.0  40.565       2.0     1.0     1.0\n",
              "1034  61.0  1.0  38.380       0.0     0.0     1.0\n",
              "198   51.0  0.0  18.050       0.0     0.0     1.0\n",
              "...    ...  ...     ...       ...     ...     ...\n",
              "1084  62.0  0.0  30.495       2.0     0.0     1.0\n",
              "726   41.0  1.0  28.405       1.0     0.0     1.0\n",
              "1132  57.0  1.0  40.280       0.0     0.0     0.0\n",
              "725   30.0  0.0  39.050       3.0     1.0     2.0\n",
              "963   46.0  1.0  24.795       3.0     0.0     0.0\n",
              "\n",
              "[268 rows x 6 columns]"
            ]
          },
          "metadata": {},
          "execution_count": 215
        }
      ]
    },
    {
      "cell_type": "code",
      "metadata": {
        "id": "Pjn-KKbFDgkW",
        "colab": {
          "base_uri": "https://localhost:8080/"
        },
        "outputId": "3fc54c21-1c1b-4658-8aeb-6510d9c4666a"
      },
      "source": [
        "y_pred"
      ],
      "execution_count": null,
      "outputs": [
        {
          "output_type": "execute_result",
          "data": {
            "text/plain": [
              "array([[-1.82397841e-01],\n",
              "       [-2.85099148e-01],\n",
              "       [ 2.07069569e+00],\n",
              "       [ 2.44003975e-01],\n",
              "       [-5.23689076e-01],\n",
              "       [-7.71045640e-01],\n",
              "       [-9.72926790e-01],\n",
              "       [ 9.03680276e-02],\n",
              "       [-3.54761076e-01],\n",
              "       [-4.81831323e-01],\n",
              "       [-7.22976711e-01],\n",
              "       [-2.46702450e-01],\n",
              "       [-3.79509044e-01],\n",
              "       [-7.57918614e-01],\n",
              "       [ 1.22019971e+00],\n",
              "       [-1.80529836e-01],\n",
              "       [-1.62836802e-01],\n",
              "       [-5.98833743e-01],\n",
              "       [-4.19907641e-01],\n",
              "       [ 1.15573478e+00],\n",
              "       [ 1.70180511e+00],\n",
              "       [ 8.90214986e-02],\n",
              "       [-1.26625563e-01],\n",
              "       [ 1.60401397e+00],\n",
              "       [-7.33827716e-01],\n",
              "       [-3.38672047e-01],\n",
              "       [-1.00833105e+00],\n",
              "       [-2.59908886e-01],\n",
              "       [-7.61123005e-01],\n",
              "       [-2.37545828e-01],\n",
              "       [-3.54025144e-01],\n",
              "       [ 2.25865181e+00],\n",
              "       [ 1.90146991e-01],\n",
              "       [ 3.89151803e-02],\n",
              "       [ 9.63818549e-01],\n",
              "       [-6.74078969e-01],\n",
              "       [-2.99239284e-02],\n",
              "       [ 1.44695638e+00],\n",
              "       [ 1.68936662e+00],\n",
              "       [-8.11207953e-01],\n",
              "       [-7.68278186e-01],\n",
              "       [-7.45239884e-01],\n",
              "       [ 1.44152480e+00],\n",
              "       [ 2.18381034e+00],\n",
              "       [ 1.23623931e+00],\n",
              "       [-6.84691036e-01],\n",
              "       [-1.89580850e-01],\n",
              "       [-4.52889275e-01],\n",
              "       [-8.01172357e-01],\n",
              "       [-2.20805121e-01],\n",
              "       [-6.32359617e-01],\n",
              "       [-8.20337141e-01],\n",
              "       [ 1.64082144e+00],\n",
              "       [ 2.10111294e+00],\n",
              "       [ 2.55120272e-01],\n",
              "       [-5.12693942e-01],\n",
              "       [-6.03721743e-01],\n",
              "       [-3.17640969e-01],\n",
              "       [-3.29340362e-01],\n",
              "       [-1.25777709e-01],\n",
              "       [-9.60617851e-01],\n",
              "       [ 2.13896226e+00],\n",
              "       [ 1.65331108e-01],\n",
              "       [-1.30166837e-01],\n",
              "       [ 6.50081332e-02],\n",
              "       [ 5.34949868e-02],\n",
              "       [ 1.07440023e+00],\n",
              "       [ 1.57777478e+00],\n",
              "       [-1.00472724e+00],\n",
              "       [-2.59068889e-01],\n",
              "       [-8.13655125e-02],\n",
              "       [-1.14224475e-01],\n",
              "       [ 9.90606910e-01],\n",
              "       [ 2.22401685e-01],\n",
              "       [-1.68622065e-01],\n",
              "       [-4.81195816e-02],\n",
              "       [-5.63409078e-01],\n",
              "       [-2.77505697e-01],\n",
              "       [ 1.41473961e+00],\n",
              "       [ 2.14423359e+00],\n",
              "       [-9.90977496e-02],\n",
              "       [ 2.02300285e+00],\n",
              "       [-7.55261588e-01],\n",
              "       [-3.30886920e-01],\n",
              "       [ 1.79793834e+00],\n",
              "       [ 1.33094409e+00],\n",
              "       [-3.97283938e-01],\n",
              "       [-6.99072231e-01],\n",
              "       [-1.07962513e-01],\n",
              "       [ 1.42215269e+00],\n",
              "       [-2.67733528e-01],\n",
              "       [-1.64046952e-01],\n",
              "       [-4.12753710e-01],\n",
              "       [-3.32703571e-01],\n",
              "       [-4.06262348e-01],\n",
              "       [-4.95581817e-01],\n",
              "       [ 1.89818018e+00],\n",
              "       [ 1.65336972e+00],\n",
              "       [-4.69958185e-01],\n",
              "       [ 1.42409851e-01],\n",
              "       [-7.45802041e-01],\n",
              "       [-3.74323628e-01],\n",
              "       [-5.51520686e-01],\n",
              "       [ 1.54966275e+00],\n",
              "       [ 1.64435668e+00],\n",
              "       [-9.38993072e-01],\n",
              "       [-3.56767285e-01],\n",
              "       [-5.52997055e-01],\n",
              "       [ 1.08054256e-01],\n",
              "       [ 1.98996617e+00],\n",
              "       [-2.55072202e-01],\n",
              "       [-2.03392281e-01],\n",
              "       [-2.53230336e-01],\n",
              "       [ 1.14197088e+00],\n",
              "       [ 2.24337940e+00],\n",
              "       [-3.96945901e-01],\n",
              "       [-1.08610904e+00],\n",
              "       [-3.60620720e-01],\n",
              "       [ 1.55339713e-01],\n",
              "       [-3.09553756e-01],\n",
              "       [ 1.85156717e+00],\n",
              "       [-4.94659566e-01],\n",
              "       [ 2.97686789e-01],\n",
              "       [-3.04373717e-01],\n",
              "       [-4.24121874e-01],\n",
              "       [-8.56322169e-01],\n",
              "       [ 1.64250043e+00],\n",
              "       [ 1.52241685e+00],\n",
              "       [ 2.18470010e+00],\n",
              "       [-6.46194567e-01],\n",
              "       [-2.99610213e-01],\n",
              "       [-7.81619525e-01],\n",
              "       [-4.39809622e-01],\n",
              "       [-3.81767761e-01],\n",
              "       [ 1.53134062e+00],\n",
              "       [ 1.38358067e+00],\n",
              "       [ 1.40842568e+00],\n",
              "       [-3.44303125e-01],\n",
              "       [ 1.63258421e+00],\n",
              "       [-8.27269517e-01],\n",
              "       [-8.00866708e-01],\n",
              "       [-1.77704607e-01],\n",
              "       [ 1.56122203e-02],\n",
              "       [-3.41197351e-02],\n",
              "       [-6.51252624e-01],\n",
              "       [ 2.19478374e-01],\n",
              "       [ 1.65558863e-01],\n",
              "       [-9.02825079e-01],\n",
              "       [-1.10290961e+00],\n",
              "       [-1.97691452e-01],\n",
              "       [-4.85557236e-01],\n",
              "       [ 1.56993854e+00],\n",
              "       [-7.37267932e-02],\n",
              "       [-8.84197683e-01],\n",
              "       [-5.73967149e-01],\n",
              "       [-4.21520208e-01],\n",
              "       [-7.39047255e-01],\n",
              "       [-9.02299711e-01],\n",
              "       [-1.57531458e-01],\n",
              "       [-6.22283432e-02],\n",
              "       [-5.00897235e-01],\n",
              "       [ 2.83633569e-01],\n",
              "       [-1.19115761e-01],\n",
              "       [ 5.69489279e-02],\n",
              "       [-8.34889923e-01],\n",
              "       [-4.98814774e-01],\n",
              "       [ 8.17832741e-01],\n",
              "       [-4.71337900e-01],\n",
              "       [-6.46500216e-01],\n",
              "       [-6.50711839e-01],\n",
              "       [-5.46418229e-01],\n",
              "       [-6.70473705e-01],\n",
              "       [-2.72728567e-01],\n",
              "       [-6.34079176e-01],\n",
              "       [-6.35855062e-01],\n",
              "       [-5.24970170e-01],\n",
              "       [-7.92936667e-01],\n",
              "       [-6.38990414e-01],\n",
              "       [ 2.07075801e+00],\n",
              "       [-9.80169502e-01],\n",
              "       [-5.31524924e-02],\n",
              "       [-3.59766159e-01],\n",
              "       [ 3.92957054e-02],\n",
              "       [-6.30781092e-01],\n",
              "       [-6.68265909e-01],\n",
              "       [ 1.93723427e+00],\n",
              "       [-7.41588498e-01],\n",
              "       [-9.42184609e-01],\n",
              "       [ 1.61154762e-01],\n",
              "       [-4.84000846e-02],\n",
              "       [ 1.82338369e+00],\n",
              "       [-6.78422268e-01],\n",
              "       [-6.37707383e-01],\n",
              "       [ 1.52966803e+00],\n",
              "       [-5.95216399e-01],\n",
              "       [-9.34093437e-01],\n",
              "       [-4.01391326e-01],\n",
              "       [-2.69971157e-01],\n",
              "       [-4.14676301e-01],\n",
              "       [-6.23694978e-01],\n",
              "       [-8.05709450e-03],\n",
              "       [ 2.12853404e+00],\n",
              "       [ 3.91472287e-02],\n",
              "       [ 1.29672593e+00],\n",
              "       [-5.43076702e-01],\n",
              "       [ 1.88243344e+00],\n",
              "       [-7.88829375e-01],\n",
              "       [-8.83949345e-02],\n",
              "       [-3.24589486e-01],\n",
              "       [-5.65250226e-01],\n",
              "       [-1.61460440e-01],\n",
              "       [ 1.08952047e-01],\n",
              "       [-6.73717724e-01],\n",
              "       [-7.44827045e-01],\n",
              "       [-4.54136063e-01],\n",
              "       [-9.99918993e-01],\n",
              "       [-4.48079237e-01],\n",
              "       [-7.32322990e-01],\n",
              "       [ 1.33368031e-03],\n",
              "       [-7.43298337e-01],\n",
              "       [-2.74144134e-01],\n",
              "       [-4.99661311e-01],\n",
              "       [-3.37931824e-01],\n",
              "       [-9.02605559e-01],\n",
              "       [-1.06098448e-02],\n",
              "       [ 2.94614177e-01],\n",
              "       [ 1.66132821e-01],\n",
              "       [-2.27285635e-01],\n",
              "       [-6.30202364e-01],\n",
              "       [-8.90430880e-01],\n",
              "       [-9.18239772e-01],\n",
              "       [ 1.56291997e-02],\n",
              "       [ 9.22957131e-02],\n",
              "       [-6.86593884e-01],\n",
              "       [-7.60174274e-01],\n",
              "       [-3.23824098e-01],\n",
              "       [-2.70824385e-01],\n",
              "       [ 1.25100807e+00],\n",
              "       [-4.66743998e-01],\n",
              "       [-2.26714272e-01],\n",
              "       [-5.85714590e-01],\n",
              "       [ 1.37830753e+00],\n",
              "       [-1.87398732e-01],\n",
              "       [-4.76481385e-01],\n",
              "       [-2.53334565e-01],\n",
              "       [-8.66639518e-02],\n",
              "       [-8.52835518e-01],\n",
              "       [-2.02958268e-01],\n",
              "       [-9.74060521e-01],\n",
              "       [-5.15146404e-01],\n",
              "       [ 1.29554175e+00],\n",
              "       [ 2.11329766e+00],\n",
              "       [-5.85128830e-01],\n",
              "       [-4.01806569e-01],\n",
              "       [-8.94758942e-01],\n",
              "       [-1.06615413e+00],\n",
              "       [-2.34891317e-01],\n",
              "       [-7.32170965e-01],\n",
              "       [-6.91905950e-01],\n",
              "       [-8.78305921e-01],\n",
              "       [-5.02832317e-01],\n",
              "       [ 1.67430749e+00],\n",
              "       [ 2.08314759e+00],\n",
              "       [ 1.25102029e-01],\n",
              "       [-4.16778912e-01],\n",
              "       [ 2.35360442e-01],\n",
              "       [ 1.66230939e+00],\n",
              "       [-3.11514235e-01]])"
            ]
          },
          "metadata": {},
          "execution_count": 216
        }
      ]
    },
    {
      "cell_type": "markdown",
      "metadata": {
        "id": "qW7ELdBgP587"
      },
      "source": [
        "### **Evaluation Matrices**\n",
        "\n",
        "1. Mean Absolute Error (MAE)\n",
        "2. Mean Squared Error (MSE)\n",
        "3. R-Squared Error"
      ]
    },
    {
      "cell_type": "code",
      "metadata": {
        "id": "9_GYiC3dDjk6",
        "colab": {
          "base_uri": "https://localhost:8080/"
        },
        "outputId": "852d1fbc-58ab-4c59-8e34-78f5bd3c7435"
      },
      "source": [
        "from sklearn.metrics import mean_absolute_error\n",
        "\n",
        "# MAE\n",
        "\n",
        "mean_absolute_error(y_test, y_pred)"
      ],
      "execution_count": null,
      "outputs": [
        {
          "output_type": "execute_result",
          "data": {
            "text/plain": [
              "0.328251006254937"
            ]
          },
          "metadata": {},
          "execution_count": 217
        }
      ]
    },
    {
      "cell_type": "code",
      "metadata": {
        "id": "a0nKlEYcD0o8",
        "colab": {
          "base_uri": "https://localhost:8080/"
        },
        "outputId": "6b8dc50c-06d6-4a02-cee1-7c0f1083466f"
      },
      "source": [
        "from sklearn.metrics import mean_squared_error\n",
        "\n",
        "mean_squared_error(y_test, y_pred)"
      ],
      "execution_count": null,
      "outputs": [
        {
          "output_type": "execute_result",
          "data": {
            "text/plain": [
              "0.22213004284614"
            ]
          },
          "metadata": {},
          "execution_count": 218
        }
      ]
    },
    {
      "cell_type": "code",
      "metadata": {
        "id": "_F1VoKk_D4ji",
        "colab": {
          "base_uri": "https://localhost:8080/"
        },
        "outputId": "1fbf156b-45bc-4088-82cc-6c6810179bbb"
      },
      "source": [
        "from sklearn.metrics import r2_score\n",
        "\n",
        "r2_score(y_test, y_pred)"
      ],
      "execution_count": null,
      "outputs": [
        {
          "output_type": "execute_result",
          "data": {
            "text/plain": [
              "0.7998747145449959"
            ]
          },
          "metadata": {},
          "execution_count": 219
        }
      ]
    },
    {
      "cell_type": "code",
      "source": [
        "regressor.score(X_train,y_train)"
      ],
      "metadata": {
        "colab": {
          "base_uri": "https://localhost:8080/"
        },
        "id": "eHHtMIWEiY7b",
        "outputId": "6bf15ae4-3378-42f9-c45e-3e806bb6cf16"
      },
      "execution_count": null,
      "outputs": [
        {
          "output_type": "execute_result",
          "data": {
            "text/plain": [
              "0.7368306228430945"
            ]
          },
          "metadata": {},
          "execution_count": 220
        }
      ]
    },
    {
      "cell_type": "markdown",
      "metadata": {
        "id": "aT-euXfCP_wM"
      },
      "source": [
        "### **Support Vector Regression**"
      ]
    },
    {
      "cell_type": "code",
      "metadata": {
        "id": "q7x0ftEpEAeE",
        "colab": {
          "base_uri": "https://localhost:8080/"
        },
        "outputId": "0d0896a9-d91f-43ae-ed44-1bceb275ec3d"
      },
      "source": [
        "# Fitting SVR to the dataset\n",
        "from sklearn.svm import SVR \n",
        "\n",
        "regressor = SVR(kernel = 'linear')\n",
        "regressor.fit(X_train,y_train)"
      ],
      "execution_count": null,
      "outputs": [
        {
          "output_type": "execute_result",
          "data": {
            "text/plain": [
              "SVR(kernel='linear')"
            ]
          },
          "metadata": {},
          "execution_count": 221
        }
      ]
    },
    {
      "cell_type": "code",
      "metadata": {
        "id": "YKvPost-EKR4"
      },
      "source": [
        "y_pred = regressor.predict(X_test)"
      ],
      "execution_count": null,
      "outputs": []
    },
    {
      "cell_type": "code",
      "metadata": {
        "colab": {
          "base_uri": "https://localhost:8080/"
        },
        "id": "UzPE3R3j_k8C",
        "outputId": "c62c61b2-6efe-41b5-9261-2b850092595d"
      },
      "source": [
        "regressor.score(X_train,y_train)"
      ],
      "execution_count": null,
      "outputs": [
        {
          "output_type": "execute_result",
          "data": {
            "text/plain": [
              "0.6795638290744734"
            ]
          },
          "metadata": {},
          "execution_count": 223
        }
      ]
    },
    {
      "cell_type": "code",
      "metadata": {
        "id": "Rl43Z1NbENhA",
        "colab": {
          "base_uri": "https://localhost:8080/"
        },
        "outputId": "716bc852-bc4a-4fbc-f95e-c0363fa05ef1"
      },
      "source": [
        "r2_score(y_test, y_pred)"
      ],
      "execution_count": null,
      "outputs": [
        {
          "output_type": "execute_result",
          "data": {
            "text/plain": [
              "0.7689076024715965"
            ]
          },
          "metadata": {},
          "execution_count": 224
        }
      ]
    },
    {
      "cell_type": "code",
      "metadata": {
        "id": "8_sNBgG9EziD",
        "colab": {
          "base_uri": "https://localhost:8080/"
        },
        "outputId": "9c70987c-991c-4375-f5ad-99b5c7087b80"
      },
      "source": [
        "mean_absolute_error(y_test, y_pred)"
      ],
      "execution_count": null,
      "outputs": [
        {
          "output_type": "execute_result",
          "data": {
            "text/plain": [
              "0.26206449818981736"
            ]
          },
          "metadata": {},
          "execution_count": 225
        }
      ]
    },
    {
      "cell_type": "code",
      "metadata": {
        "id": "okY-WZLjE0mc",
        "colab": {
          "base_uri": "https://localhost:8080/"
        },
        "outputId": "6964a959-09a6-4d49-a92b-c167b8505796"
      },
      "source": [
        "mean_squared_error(y_test, y_pred)"
      ],
      "execution_count": null,
      "outputs": [
        {
          "output_type": "execute_result",
          "data": {
            "text/plain": [
              "0.25650214088485607"
            ]
          },
          "metadata": {},
          "execution_count": 226
        }
      ]
    },
    {
      "cell_type": "markdown",
      "metadata": {
        "id": "M2_uHrnlQFXT"
      },
      "source": [
        "### **Decision Tree Regression**"
      ]
    },
    {
      "cell_type": "code",
      "metadata": {
        "id": "D5weq4mgEYAN",
        "colab": {
          "base_uri": "https://localhost:8080/"
        },
        "outputId": "cbe87ebb-eb33-4339-9b48-488817ea3661"
      },
      "source": [
        "from sklearn.tree import DecisionTreeRegressor\n",
        "\n",
        "\n",
        "regressor = DecisionTreeRegressor(random_state = 0)\n",
        "regressor.fit(X_train,y_train) \n"
      ],
      "execution_count": null,
      "outputs": [
        {
          "output_type": "execute_result",
          "data": {
            "text/plain": [
              "DecisionTreeRegressor(random_state=0)"
            ]
          },
          "metadata": {},
          "execution_count": 227
        }
      ]
    },
    {
      "cell_type": "code",
      "metadata": {
        "id": "pKyItVaREbHH",
        "colab": {
          "base_uri": "https://localhost:8080/"
        },
        "outputId": "45bcd4dc-6eaf-4851-bf6b-cd8dd29c092f"
      },
      "source": [
        "y_pred = regressor.predict(X_test)\n",
        "r2_score(y_test, y_pred)"
      ],
      "execution_count": null,
      "outputs": [
        {
          "output_type": "execute_result",
          "data": {
            "text/plain": [
              "0.6562575965127319"
            ]
          },
          "metadata": {},
          "execution_count": 228
        }
      ]
    },
    {
      "cell_type": "code",
      "metadata": {
        "colab": {
          "base_uri": "https://localhost:8080/"
        },
        "id": "cbgZy7I7_o0y",
        "outputId": "d15111c7-2a63-4ad6-ff94-9c103e51b91f"
      },
      "source": [
        "regressor.score(X_train,y_train)"
      ],
      "execution_count": null,
      "outputs": [
        {
          "output_type": "execute_result",
          "data": {
            "text/plain": [
              "0.9982963931606104"
            ]
          },
          "metadata": {},
          "execution_count": 229
        }
      ]
    },
    {
      "cell_type": "code",
      "source": [
        "mean_squared_error(y_test, y_pred)"
      ],
      "metadata": {
        "colab": {
          "base_uri": "https://localhost:8080/"
        },
        "id": "14ebj3z3kOc3",
        "outputId": "4fa6b33c-ff13-4f95-9273-9aacbcb74ed3"
      },
      "execution_count": null,
      "outputs": [
        {
          "output_type": "execute_result",
          "data": {
            "text/plain": [
              "0.3815385679079004"
            ]
          },
          "metadata": {},
          "execution_count": 230
        }
      ]
    },
    {
      "cell_type": "code",
      "source": [
        "mean_absolute_error(y_test, y_pred)"
      ],
      "metadata": {
        "colab": {
          "base_uri": "https://localhost:8080/"
        },
        "id": "Bq2w-9TMkRf5",
        "outputId": "bf9e6fd0-681d-4868-bcdf-a809e637ca8d"
      },
      "execution_count": null,
      "outputs": [
        {
          "output_type": "execute_result",
          "data": {
            "text/plain": [
              "0.3008404697042962"
            ]
          },
          "metadata": {},
          "execution_count": 231
        }
      ]
    },
    {
      "cell_type": "markdown",
      "metadata": {
        "id": "GRJCSf2cQKgd"
      },
      "source": [
        "### **Random Forest Regression**"
      ]
    },
    {
      "cell_type": "code",
      "metadata": {
        "id": "Q3u2iWjyEhq0",
        "colab": {
          "base_uri": "https://localhost:8080/"
        },
        "outputId": "2d1d7caf-80c1-4d66-ab25-37a606dbfd0f"
      },
      "source": [
        "# Fitting the Random Forest Regression with the dataset\n",
        "from sklearn.ensemble import RandomForestRegressor\n",
        "\n",
        "regressor = RandomForestRegressor(n_estimators = 10,random_state = 0) # n estiamator is the number of decision trees\n",
        "regressor.fit(X_train,y_train) "
      ],
      "execution_count": null,
      "outputs": [
        {
          "output_type": "execute_result",
          "data": {
            "text/plain": [
              "RandomForestRegressor(n_estimators=10, random_state=0)"
            ]
          },
          "metadata": {},
          "execution_count": 232
        }
      ]
    },
    {
      "cell_type": "code",
      "metadata": {
        "id": "f019ksPCEpKm",
        "colab": {
          "base_uri": "https://localhost:8080/"
        },
        "outputId": "012bd54b-de4d-42e8-c82d-7897af32e7ab"
      },
      "source": [
        "y_pred = regressor.predict(X_test)\n",
        "r2_score(y_test, y_pred)"
      ],
      "execution_count": null,
      "outputs": [
        {
          "output_type": "execute_result",
          "data": {
            "text/plain": [
              "0.8757214770662562"
            ]
          },
          "metadata": {},
          "execution_count": 233
        }
      ]
    },
    {
      "cell_type": "code",
      "metadata": {
        "colab": {
          "base_uri": "https://localhost:8080/"
        },
        "id": "8Hv7VGet_qi4",
        "outputId": "f3f13f68-8d67-4c52-fcc9-d6e8a789e770"
      },
      "source": [
        "regressor.score(X_train,y_train)"
      ],
      "execution_count": null,
      "outputs": [
        {
          "output_type": "execute_result",
          "data": {
            "text/plain": [
              "0.9644959129365694"
            ]
          },
          "metadata": {},
          "execution_count": 234
        }
      ]
    },
    {
      "cell_type": "code",
      "metadata": {
        "id": "jC2-m2aME2Ms",
        "colab": {
          "base_uri": "https://localhost:8080/"
        },
        "outputId": "e7c9d2d5-945e-4f92-846d-846925c1b62b"
      },
      "source": [
        "mean_absolute_error(y_test, y_pred)"
      ],
      "execution_count": null,
      "outputs": [
        {
          "output_type": "execute_result",
          "data": {
            "text/plain": [
              "0.2156241682333011"
            ]
          },
          "metadata": {},
          "execution_count": 235
        }
      ]
    },
    {
      "cell_type": "code",
      "metadata": {
        "id": "BMxJkPK6E3P5",
        "colab": {
          "base_uri": "https://localhost:8080/"
        },
        "outputId": "3a7a6609-13e9-4a9c-8860-e639efc6d6e4"
      },
      "source": [
        "mean_squared_error(y_test, y_pred)"
      ],
      "execution_count": null,
      "outputs": [
        {
          "output_type": "execute_result",
          "data": {
            "text/plain": [
              "0.1379435565144235"
            ]
          },
          "metadata": {},
          "execution_count": 236
        }
      ]
    },
    {
      "cell_type": "markdown",
      "source": [
        "## Result Analysis\n",
        "\n",
        "In this project, 4 different kind of regression algorithm is used. The comparision between these algorithms using evaluation matrices are given below:\n",
        "\n",
        "![reg.png](data:image/png;base64,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)"
      ],
      "metadata": {
        "id": "z8H_wRvfgb-Z"
      }
    },
    {
      "cell_type": "markdown",
      "source": [
        "## Discussion\n",
        "In this experiment, Regression is done on **\"Medical Cost Personal Dataset\"** using four different Regressor algorithms, those are **Linear Regression, Support Vector Regression, Decision Tree Regression and Rando Forest Regression.**\n",
        "First of all the libraries were imported and then dataset was retrived from storage and some preprocessing was done like **Encoding, Taking care of missing data and Feature Scaling.** \n",
        "The **charges** column of dataset was taken as the target dataset and rest of them were taken as features. Then the dataset is splitted into training and testing where training data was 80% of the dataset. \n",
        "After training the data into regressors some evaluation matrices were used to evaluate how the model worked. From Result analysis, it is seen that Random Forest Regressor has better evaluation matrices.   "
      ],
      "metadata": {
        "id": "9_iMHT-Wl08c"
      }
    }
  ]
}